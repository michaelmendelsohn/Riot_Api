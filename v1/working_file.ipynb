{
 "cells": [
  {
   "cell_type": "code",
   "execution_count": 9,
   "metadata": {},
   "outputs": [],
   "source": [
    "_RIOT_API_KEY='RGAPI-0539714d-a04d-4e39-acb8-138983063a28'\n",
    "from riotwatcher import LolWatcher\n",
    "import helper_functions as help\n",
    "import role_classification as rc\n",
    "import constants\n",
    "import pandas as pd\n",
    "from datetime import datetime\n",
    "import mysql.connector\n",
    "from sqlalchemy import create_engine\n",
    "import concurrent.futures\n",
    "\n",
    "lol_watcher = LolWatcher(_RIOT_API_KEY)"
   ]
  },
  {
   "cell_type": "markdown",
   "metadata": {},
   "source": [
    "1. Implement retry for when the URL gets too many requests for 1 match. probably as simple as a wrapper function around the slurps in slurp_data that retries if the clienter error exception is returned\n",
    "e.g. Exception 429 Client Error: Too Many Requests for url: https://americas.api.riotgames.com/lol/match/v5/matches/NA1_4708472978/timeline thrown. Cancelling futures.\n",
    "\n",
    "2. Handle this exception: Exception 404 Client Error: Not Found for url: https://americas.api.riotgames.com/lol/match/v5/matches/NA1_3891774034 thrown. Cancelling futures.\n",
    "\n",
    "3. Handling processing by puuid instead of summonerName? \n",
    "    GoofyGriefer\tcT70cPTfqJ_gLJrZRqSTBO0lO3ZfM25tP4MRfvVsPw5CF5EHcdPILgojfnvBMudR9vJmnNAtFxiBvg\n",
    "    CerebralPlayer\tcT70cPTfqJ_gLJrZRqSTBO0lO3ZfM25tP4MRfvVsPw5CF5EHcdPILgojfnvBMudR9vJmnNAtFxiBvg\n",
    "    PepegaMindset\tcT70cPTfqJ_gLJrZRqSTBO0lO3ZfM25tP4MRfvVsPw5CF5EHcdPILgojfnvBMudR9vJmnNAtFxiBvg"
   ]
  },
  {
   "cell_type": "code",
   "execution_count": 10,
   "metadata": {},
   "outputs": [],
   "source": [
    "engine = help.create_mysql_engine()"
   ]
  },
  {
   "cell_type": "code",
   "execution_count": 5,
   "metadata": {},
   "outputs": [],
   "source": [
    "# ~25 seconds for 50 matches. More if we've hit our API Limit.\n",
    "# 8m 16s for 800 records\n",
    "\n",
    "# help.collect_riot_api_data('SouporSecret', lol_watcher, 'lol_match_timeline',\n",
    "#                             engine, match_upload_limit=800, num_worker_threads=2)"
   ]
  },
  {
   "cell_type": "code",
   "execution_count": 6,
   "metadata": {},
   "outputs": [],
   "source": [
    "# 23.7 seconds for 50 matches, 1 thread\n",
    "# 7.4 seconds for 20 matches, 2 threads\n",
    "# 5 seconds for 20 matches, 4 threads\n",
    "# 4.7 seconds for 20 matches, 8 threads\n",
    "# 5.8 seconds for 50 matches, 8 threads\n",
    "\n",
    "# help.collect_riot_api_data('SouporSecret', lol_watcher, 'lol_match_details',\n",
    "#                             engine, match_upload_limit=1200, num_worker_threads=2)\n"
   ]
  },
  {
   "cell_type": "code",
   "execution_count": 13,
   "metadata": {},
   "outputs": [
    {
     "name": "stdout",
     "output_type": "stream",
     "text": [
      "935 matches to slurp!\n",
      "Uploaded match id NA1_4749140412 lol_match_timeline data.\n",
      "Uploaded match id NA1_4747376829 lol_match_timeline data.\n",
      "Uploaded match id NA1_4749102247 lol_match_timeline data.\n",
      "Uploaded match id NA1_4747553897 lol_match_timeline data.\n",
      "Uploaded match id NA1_4741898748 lol_match_timeline data.\n",
      "Uploaded match id NA1_4740981877 lol_match_timeline data.\n",
      "Uploaded match id NA1_4739909906 lol_match_timeline data.\n",
      "Uploaded match id NA1_4740760887 lol_match_timeline data.\n",
      "Uploaded match id NA1_4739934695 lol_match_timeline data.\n",
      "Uploaded match id NA1_4738335359 lol_match_timeline data.\n",
      "Uploaded match id NA1_4738783055 lol_match_timeline data.\n",
      "Uploaded match id NA1_4739823906 lol_match_timeline data.\n",
      "Uploaded match id NA1_4738268063 lol_match_timeline data.\n",
      "Uploaded match id NA1_4738289066 lol_match_timeline data.\n",
      "Uploaded match id NA1_4737326218 lol_match_timeline data.Uploaded match id NA1_4737863776 lol_match_timeline data.\n",
      "\n",
      "Uploaded match id NA1_4733600127 lol_match_timeline data.\n",
      "Uploaded match id NA1_4737306861 lol_match_timeline data.\n",
      "Uploaded match id NA1_4729757208 lol_match_timeline data.\n",
      "Uploaded match id NA1_4730267185 lol_match_timeline data.\n",
      "Uploaded match id NA1_4729451868 lol_match_timeline data.\n",
      "Uploaded match id NA1_4730411246 lol_match_timeline data.\n",
      "Uploaded match id NA1_4728179367 lol_match_timeline data.\n",
      "Uploaded match id NA1_4728129224 lol_match_timeline data.\n",
      "Uploaded match id NA1_4725892726 lol_match_timeline data.\n",
      "Uploaded match id NA1_4728080864 lol_match_timeline data.\n",
      "Uploaded match id NA1_4725740354 lol_match_timeline data.\n",
      "Uploaded match id NA1_4725685747 lol_match_timeline data.\n",
      "Uploaded match id NA1_4714554408 lol_match_timeline data.\n",
      "Uploaded match id NA1_4714482959 lol_match_timeline data.\n",
      "Uploaded match id NA1_4713172073 lol_match_timeline data.\n",
      "Uploaded match id NA1_4712008198 lol_match_timeline data.\n",
      "Uploaded match id NA1_4712051924 lol_match_timeline data.\n",
      "Uploaded match id NA1_4711258776 lol_match_timeline data.\n",
      "Uploaded match id NA1_4711030707 lol_match_timeline data.\n",
      "Uploaded match id NA1_4708524754 lol_match_timeline data.\n",
      "Uploaded match id NA1_4707373031 lol_match_timeline data.\n",
      "Uploaded match id NA1_4706813580 lol_match_timeline data.\n",
      "Uploaded match id NA1_4706837428 lol_match_timeline data.\n",
      "Uploaded match id NA1_4706767685 lol_match_timeline data.\n"
     ]
    }
   ],
   "source": [
    "help.collect_riot_api_data('ireliathinkhard', lol_watcher, 'lol_match_timeline',\n",
    "                        engine, match_upload_limit=40, num_worker_threads=4)"
   ]
  },
  {
   "cell_type": "code",
   "execution_count": 12,
   "metadata": {},
   "outputs": [
    {
     "name": "stdout",
     "output_type": "stream",
     "text": [
      "935 matches to slurp!\n",
      "Uploaded match id NA1_4749140412 lol_match_details data.\n",
      "Uploaded match id NA1_4749102247 lol_match_details data.\n",
      "Uploaded match id NA1_4747553897 lol_match_details data.\n",
      "Uploaded match id NA1_4747376829 lol_match_details data.\n",
      "Uploaded match id NA1_4741898748 lol_match_details data.\n",
      "Uploaded match id NA1_4739934695 lol_match_details data.\n",
      "Uploaded match id NA1_4740760887 lol_match_details data.\n",
      "Uploaded match id NA1_4740981877 lol_match_details data.\n",
      "Uploaded match id NA1_4739909906 lol_match_details data.\n",
      "Uploaded match id NA1_4738783055 lol_match_details data.\n",
      "Uploaded match id NA1_4739823906 lol_match_details data.\n",
      "Uploaded match id NA1_4738335359 lol_match_details data.\n",
      "Uploaded match id NA1_4738289066 lol_match_details data.\n",
      "Uploaded match id NA1_4737863776 lol_match_details data.\n",
      "Uploaded match id NA1_4738268063 lol_match_details data.\n",
      "Uploaded match id NA1_4737306861 lol_match_details data.\n",
      "Uploaded match id NA1_4730411246 lol_match_details data.\n",
      "Uploaded match id NA1_4733600127 lol_match_details data.\n",
      "Uploaded match id NA1_4737326218 lol_match_details data.\n",
      "Uploaded match id NA1_4730267185 lol_match_details data.\n",
      "Uploaded match id NA1_4729757208 lol_match_details data.\n",
      "Uploaded match id NA1_4729451868 lol_match_details data.\n",
      "Uploaded match id NA1_4728179367 lol_match_details data.\n",
      "Uploaded match id NA1_4728129224 lol_match_details data.\n",
      "Uploaded match id NA1_4725892726 lol_match_details data.\n",
      "Uploaded match id NA1_4728080864 lol_match_details data.\n",
      "Uploaded match id NA1_4725685747 lol_match_details data.\n",
      "Uploaded match id NA1_4725740354 lol_match_details data.\n",
      "Uploaded match id NA1_4714482959 lol_match_details data.\n",
      "Uploaded match id NA1_4714554408 lol_match_details data.\n",
      "Uploaded match id NA1_4713172073 lol_match_details data.\n",
      "Uploaded match id NA1_4712051924 lol_match_details data.\n",
      "Uploaded match id NA1_4712008198 lol_match_details data.\n",
      "Uploaded match id NA1_4711258776 lol_match_details data.\n",
      "Uploaded match id NA1_4711030707 lol_match_details data.\n",
      "Uploaded match id NA1_4708524754 lol_match_details data.\n",
      "Uploaded match id NA1_4707373031 lol_match_details data.\n",
      "Uploaded match id NA1_4706837428 lol_match_details data.Uploaded match id NA1_4706813580 lol_match_details data.\n",
      "\n",
      "Uploaded match id NA1_4706767685 lol_match_details data.\n"
     ]
    }
   ],
   "source": [
    "help.collect_riot_api_data('ireliathinkhard', lol_watcher, 'lol_match_details',\n",
    "                        engine, match_upload_limit=40, num_worker_threads=4)"
   ]
  },
  {
   "cell_type": "code",
   "execution_count": 14,
   "metadata": {},
   "outputs": [
    {
     "name": "stdout",
     "output_type": "stream",
     "text": [
      "41\n",
      "0 matches with more than 2 smites:\n",
      "0 matches with more than 2 champs with support items:\n",
      "41 match roles uploaded, including: \n",
      "['NA1_4010105744' 'NA1_4749140412' 'NA1_4749102247' 'NA1_4747553897'\n",
      " 'NA1_4747376829' 'NA1_4741898748' 'NA1_4739934695' 'NA1_4740760887'\n",
      " 'NA1_4740981877' 'NA1_4739909906']\n"
     ]
    }
   ],
   "source": [
    "rc.determine_roles(engine)"
   ]
  },
  {
   "cell_type": "code",
   "execution_count": 5,
   "metadata": {},
   "outputs": [
    {
     "name": "stdout",
     "output_type": "stream",
     "text": [
      "Fetching data for radaemon1!\n",
      "0 matches to slurp!\n",
      "0 matches to slurp!\n",
      "1\n",
      "Not enough roles to classify\n",
      "Fetching data for koreazian!\n",
      "0 matches to slurp!\n",
      "0 matches to slurp!\n",
      "1\n",
      "Not enough roles to classify\n",
      "Fetching data for SouporSecret!\n",
      "1 matches to slurp!\n",
      "Empty Game. Returning None for Match Timeline.\n",
      "Match id NA1_4393904069 returns None.\n",
      "1 matches to slurp!\n",
      "Empty Game. Returning None for Match Details.\n",
      "Match id NA1_4393904069 returns None.\n",
      "1\n",
      "Not enough roles to classify\n",
      "Fetching data for SpicedCider!\n",
      "1 matches to slurp!\n",
      "Empty Game. Returning None for Match Timeline.\n",
      "Match id NA1_4393904069 returns None.\n",
      "2 matches to slurp!\n",
      "Empty Game. Returning None for Match Details.\n",
      "Match id NA1_4393904069 returns None.\n",
      "Empty Game. Returning None for Match Details.\n",
      "Match id NA1_4235418390 returns None.\n",
      "1\n",
      "Not enough roles to classify\n",
      "Fetching data for AerialBlast!\n",
      "3 matches to slurp!\n",
      "Empty Game. Returning None for Match Timeline.\n",
      "Match id NA1_4393904069 returns None.\n",
      "Exception 404 Client Error: Not Found for url: https://americas.api.riotgames.com/lol/match/v5/matches/NA1_3910273301/timeline thrown. Cancelling futures.\n",
      "3 matches to slurp!\n",
      "Empty Game. Returning None for Match Details.\n",
      "Match id NA1_4393904069 returns None.\n",
      "Exception 404 Client Error: Not Found for url: https://americas.api.riotgames.com/lol/match/v5/matches/NA1_3910273301 thrown. Cancelling futures.\n",
      "1\n",
      "Not enough roles to classify\n",
      "Fetching data for IrishGuy!\n",
      "2 matches to slurp!\n",
      "Empty Game. Returning None for Match Timeline.\n",
      "Match id NA1_4393904069 returns None.\n",
      "Exception 404 Client Error: Not Found for url: https://americas.api.riotgames.com/lol/match/v5/matches/NA1_3934370284/timeline thrown. Cancelling futures.\n",
      "2 matches to slurp!\n",
      "Exception 404 Client Error: Not Found for url: https://americas.api.riotgames.com/lol/match/v5/matches/NA1_3934370284 thrown. Cancelling futures.\n",
      "Empty Game. Returning None for Match Details.\n",
      "Match id NA1_4393904069 returns None.\n",
      "1\n",
      "Not enough roles to classify\n",
      "Fetching data for GoofyGriefer!\n",
      "1 matches to slurp!\n",
      "Uploaded match id NA1_4748483857 lol_match_timeline data.\n",
      "4 matches to slurp!\n",
      "Uploaded match id NA1_4748483857 lol_match_details data.\n",
      "Uploaded match id NA1_4747516876 lol_match_details data.\n",
      "Uploaded match id NA1_4747477884 lol_match_details data.\n",
      "Uploaded match id NA1_4747424656 lol_match_details data.\n",
      "1\n",
      "Not enough roles to classify\n",
      "Fetching data for LIAAAAAAAAAAAAAA!\n",
      "0 matches to slurp!\n",
      "0 matches to slurp!\n",
      "1\n",
      "Not enough roles to classify\n",
      "Fetching data for Kroocs!\n",
      "0 matches to slurp!\n",
      "0 matches to slurp!\n",
      "1\n",
      "Not enough roles to classify\n",
      "Fetching data for JellyBlaster!\n",
      "2 matches to slurp!\n",
      "Exception 404 Client Error: Not Found for url: https://americas.api.riotgames.com/lol/match/v5/matches/NA1_3891774327/timeline thrown. Cancelling futures.\n",
      "2 matches to slurp!\n",
      "Exception 404 Client Error: Not Found for url: https://americas.api.riotgames.com/lol/match/v5/matches/NA1_3891774034 thrown. Cancelling futures.\n",
      "1\n",
      "Not enough roles to classify\n",
      "Fetching data for MegaJharo!\n",
      "0 matches to slurp!\n",
      "0 matches to slurp!\n",
      "1\n",
      "Not enough roles to classify\n",
      "Fetching data for Teroboal!\n",
      "0 matches to slurp!\n",
      "0 matches to slurp!\n",
      "1\n",
      "Not enough roles to classify\n",
      "Fetching data for Boss 0f This Gym!\n",
      "0 matches to slurp!\n",
      "0 matches to slurp!\n",
      "1\n",
      "Not enough roles to classify\n"
     ]
    }
   ],
   "source": [
    "list_of_friends = ['radaemon1','koreazian','SouporSecret','SpicedCider','AerialBlast','IrishGuy',\n",
    "'GoofyGriefer','LIAAAAAAAAAAAAAA','Kroocs','JellyBlaster','MegaJharo','Teroboal','Boss 0f This Gym']\n",
    "for friend in list_of_friends:\n",
    "    print(f\"Fetching data for {friend}!\")\n",
    "    help.collect_riot_api_data(friend, lol_watcher, 'lol_match_timeline',\n",
    "                            engine, match_upload_limit=1200, num_worker_threads=4)\n",
    "    help.collect_riot_api_data(friend, lol_watcher, 'lol_match_details',\n",
    "                            engine, match_upload_limit=1200, num_worker_threads=4)\n",
    "rc.determine_roles(engine)"
   ]
  },
  {
   "cell_type": "code",
   "execution_count": null,
   "metadata": {},
   "outputs": [],
   "source": []
  }
 ],
 "metadata": {
  "kernelspec": {
   "display_name": "Python 3",
   "language": "python",
   "name": "python3"
  },
  "language_info": {
   "codemirror_mode": {
    "name": "ipython",
    "version": 3
   },
   "file_extension": ".py",
   "mimetype": "text/x-python",
   "name": "python",
   "nbconvert_exporter": "python",
   "pygments_lexer": "ipython3",
   "version": "3.11.4"
  },
  "orig_nbformat": 4
 },
 "nbformat": 4,
 "nbformat_minor": 2
}
