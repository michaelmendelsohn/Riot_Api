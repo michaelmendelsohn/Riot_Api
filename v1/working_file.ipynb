{
 "cells": [
  {
   "cell_type": "code",
   "execution_count": 1,
   "metadata": {},
   "outputs": [],
   "source": [
    "_RIOT_API_KEY='RGAPI-ea8304f2-1e97-49e1-9ad2-1ba6e618b489'\n",
    "from riotwatcher import LolWatcher\n",
    "import helper_functions as help\n",
    "lol_watcher = LolWatcher(_RIOT_API_KEY)\n"
   ]
  },
  {
   "cell_type": "markdown",
   "metadata": {},
   "source": [
    "\n",
    "1. get puuid for a summoner name - Summonerv4/by-name/summonername\n",
    "2. get list of match ids by puuid - Matchv5/ids\n",
    "3. Check database for which match ids i don't have - find_to_slurp\n",
    "4. Create a function that does the following\n",
    "- get match by match id - Matchv5/matchids\n",
    "    - Store in a DB\n",
    "- get match timeline by match id\n",
    "    - store in a DB\n",
    "5. Create concurrent processing that will speed this up"
   ]
  },
  {
   "cell_type": "code",
   "execution_count": null,
   "metadata": {},
   "outputs": [],
   "source": [
    "match_list=help.get_matchlist_by_summoner_name('souporsecret', lolwatcher_connection)\n",
    "len(x)"
   ]
  }
 ],
 "metadata": {
  "kernelspec": {
   "display_name": "Python 3",
   "language": "python",
   "name": "python3"
  },
  "language_info": {
   "codemirror_mode": {
    "name": "ipython",
    "version": 3
   },
   "file_extension": ".py",
   "mimetype": "text/x-python",
   "name": "python",
   "nbconvert_exporter": "python",
   "pygments_lexer": "ipython3",
   "version": "3.11.4"
  },
  "orig_nbformat": 4
 },
 "nbformat": 4,
 "nbformat_minor": 2
}
