{
 "cells": [
  {
   "cell_type": "code",
   "execution_count": 1,
   "metadata": {},
   "outputs": [],
   "source": [
    "_RIOT_API_KEY='RGAPI-f133c0d1-25f4-4ab2-ad9e-7d96aa3b73f5'\n",
    "from riotwatcher import LolWatcher\n",
    "import helper_functions as help\n",
    "import role_classification as rc\n",
    "import constants\n",
    "import pandas as pd\n",
    "from datetime import datetime\n",
    "import mysql.connector\n",
    "from sqlalchemy import create_engine\n",
    "import concurrent.futures\n",
    "\n",
    "lol_watcher = LolWatcher(_RIOT_API_KEY)"
   ]
  },
  {
   "cell_type": "markdown",
   "metadata": {},
   "source": [
    "1. Implement retry for when the URL gets too many requests for 1 match. probably as simple as a wrapper function around the slurps in slurp_data that retries if the clienter error exception is returned\n",
    "e.g. Exception 429 Client Error: Too Many Requests for url: https://americas.api.riotgames.com/lol/match/v5/matches/NA1_4708472978/timeline thrown. Cancelling futures.\n",
    "\n",
    "2. Handle this exception: Exception 404 Client Error: Not Found for url: https://americas.api.riotgames.com/lol/match/v5/matches/NA1_3891774034 thrown. Cancelling futures.\n",
    "\n",
    "3. Handling processing by puuid instead of summonerName? \n",
    "    GoofyGriefer\tcT70cPTfqJ_gLJrZRqSTBO0lO3ZfM25tP4MRfvVsPw5CF5EHcdPILgojfnvBMudR9vJmnNAtFxiBvg\n",
    "    CerebralPlayer\tcT70cPTfqJ_gLJrZRqSTBO0lO3ZfM25tP4MRfvVsPw5CF5EHcdPILgojfnvBMudR9vJmnNAtFxiBvg\n",
    "    PepegaMindset\tcT70cPTfqJ_gLJrZRqSTBO0lO3ZfM25tP4MRfvVsPw5CF5EHcdPILgojfnvBMudR9vJmnNAtFxiBvg"
   ]
  },
  {
   "cell_type": "code",
   "execution_count": 2,
   "metadata": {},
   "outputs": [],
   "source": [
    "engine = help.create_mysql_engine()"
   ]
  },
  {
   "cell_type": "code",
   "execution_count": 3,
   "metadata": {},
   "outputs": [],
   "source": [
    "# ~25 seconds for 50 matches. More if we've hit our API Limit.\n",
    "# 8m 16s for 800 records\n",
    "\n",
    "# help.collect_riot_api_data('SouporSecret', lol_watcher, 'lol_match_timeline',\n",
    "#                             engine, match_upload_limit=800, num_worker_threads=2)"
   ]
  },
  {
   "cell_type": "code",
   "execution_count": 4,
   "metadata": {},
   "outputs": [],
   "source": [
    "# 23.7 seconds for 50 matches, 1 thread\n",
    "# 7.4 seconds for 20 matches, 2 threads\n",
    "# 5 seconds for 20 matches, 4 threads\n",
    "# 4.7 seconds for 20 matches, 8 threads\n",
    "# 5.8 seconds for 50 matches, 8 threads\n",
    "\n",
    "# help.collect_riot_api_data('SouporSecret', lol_watcher, 'lol_match_details',\n",
    "#                             engine, match_upload_limit=1200, num_worker_threads=2)\n"
   ]
  },
  {
   "cell_type": "code",
   "execution_count": 5,
   "metadata": {},
   "outputs": [
    {
     "name": "stdout",
     "output_type": "stream",
     "text": [
      "0 matches to slurp!\n",
      "0 matches to slurp!\n",
      "0\n",
      "No roles to classify\n",
      "0 matches to slurp!\n",
      "0 matches to slurp!\n",
      "0\n",
      "No roles to classify\n",
      "1 matches to slurp!\n",
      "Empty Game. Returning None for Match Timeline.\n",
      "Match id NA1_4393904069 returns None.\n",
      "1 matches to slurp!\n",
      "Empty Game. Returning None for Match Details.\n",
      "Match id NA1_4393904069 returns None.\n",
      "0\n",
      "No roles to classify\n",
      "1 matches to slurp!\n",
      "Empty Game. Returning None for Match Timeline.\n",
      "Match id NA1_4393904069 returns None.\n"
     ]
    }
   ],
   "source": [
    "list_of_friends = ['radaemon1','koreazian','SouporSecret','SpicedCider','AerialBlast','IrishGuy',\n",
    "'GoofyGriefer','LIAAAAAAAAAAAAAA','Kroocs','JellyBlaster','MegaJharo','Teroboal','Boss 0f This Gym']\n",
    "for friend in list_of_friends:\n",
    "    print(f\"Fetching data for {friend}!\")\n",
    "    help.collect_riot_api_data(friend, lol_watcher, 'lol_match_timeline',\n",
    "                            engine, match_upload_limit=1200, num_worker_threads=4)\n",
    "    help.collect_riot_api_data(friend, lol_watcher, 'lol_match_details',\n",
    "                            engine, match_upload_limit=1200, num_worker_threads=4)\n",
    "    rc.determine_roles(engine)"
   ]
  },
  {
   "cell_type": "code",
   "execution_count": null,
   "metadata": {},
   "outputs": [],
   "source": []
  }
 ],
 "metadata": {
  "kernelspec": {
   "display_name": "Python 3",
   "language": "python",
   "name": "python3"
  },
  "language_info": {
   "codemirror_mode": {
    "name": "ipython",
    "version": 3
   },
   "file_extension": ".py",
   "mimetype": "text/x-python",
   "name": "python",
   "nbconvert_exporter": "python",
   "pygments_lexer": "ipython3",
   "version": "3.11.4"
  },
  "orig_nbformat": 4
 },
 "nbformat": 4,
 "nbformat_minor": 2
}
