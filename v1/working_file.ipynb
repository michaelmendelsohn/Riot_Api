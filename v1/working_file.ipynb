{
 "cells": [
  {
   "cell_type": "code",
   "execution_count": 1,
   "metadata": {},
   "outputs": [],
   "source": [
    "_RIOT_API_KEY='RGAPI-0a48f46d-50e5-4744-b116-3aa0a270934c'\n",
    "from riotwatcher import LolWatcher\n",
    "import helper_functions as help\n",
    "import constants\n",
    "import pandas as pd\n",
    "from datetime import datetime\n",
    "import mysql.connector\n",
    "from sqlalchemy import create_engine\n",
    "import concurrent.futures\n",
    "\n",
    "lol_watcher = LolWatcher(_RIOT_API_KEY)"
   ]
  },
  {
   "cell_type": "markdown",
   "metadata": {},
   "source": [
    "\n",
    "1. get puuid for a summoner name - Summonerv4/by-name/summonername\n",
    "2. get list of match ids by puuid - Matchv5/ids\n",
    "3. Check database for which match ids i don't have - find_to_slurp\n",
    "4. Create a function that does the following\n",
    "- get match by match id - Matchv5/matchids\n",
    "    - Store in a DB\n",
    "- get match timeline by match id\n",
    "    - store in a DB\n",
    "5. Create concurrent processing that will speed this up"
   ]
  },
  {
   "cell_type": "code",
   "execution_count": 2,
   "metadata": {},
   "outputs": [],
   "source": [
    "engine = help.create_mysql_engine()"
   ]
  },
  {
   "cell_type": "code",
   "execution_count": 4,
   "metadata": {},
   "outputs": [
    {
     "name": "stdout",
     "output_type": "stream",
     "text": [
      "3 matches to slurp!\n",
      "Empty Game. Returning None for Match Timeline.\n",
      "Match id NA1_4393904069 returns None.\n",
      "Exception 404 Client Error: Not Found for url: https://americas.api.riotgames.com/lol/match/v5/matches/NA1_3887120760/timeline thrown. Cancelling futures.\n"
     ]
    }
   ],
   "source": [
    "# ~25 seconds for 50 matches. More if we've hit our API Limit.\n",
    "# 8m 16s for 800 records\n",
    "help.collect_riot_api_data('aerialblast', lol_watcher, 'lol_match_timeline',\n",
    "                            engine, match_upload_limit=800, num_worker_threads=2)"
   ]
  },
  {
   "cell_type": "code",
   "execution_count": 5,
   "metadata": {},
   "outputs": [
    {
     "name": "stdout",
     "output_type": "stream",
     "text": [
      "6 matches to slurp!\n",
      "Empty Game. Returning None for Match Details.\n",
      "Match id NA1_4393904069 returns None.\n",
      "Uploaded match id NA1_4078284219 lol_match_details data.\n",
      "Uploaded match id NA1_4030952953 lol_match_details data.\n",
      "Uploaded match id NA1_3912288428 lol_match_details data.\n",
      "Exception 404 Client Error: Not Found for url: https://americas.api.riotgames.com/lol/match/v5/matches/NA1_3910273301 thrown. Cancelling futures.\n"
     ]
    }
   ],
   "source": [
    "# 23.7 seconds for 50 matches, 1 thread\n",
    "# 7.4 seconds for 20 matches, 2 threads\n",
    "# 5 seconds for 20 matches, 4 threads\n",
    "# 4.7 seconds for 20 matches, 8 threads\n",
    "# 5.8 seconds for 50 matches, 8 threads\n",
    "    # ran again right after and must have hit rate limit because it's not returning anyhting for a long time\n",
    "\n",
    "help.collect_riot_api_data('aerialblast', lol_watcher, 'lol_match_details',\n",
    "                            engine, match_upload_limit=800, num_worker_threads=2)"
   ]
  },
  {
   "cell_type": "code",
   "execution_count": null,
   "metadata": {},
   "outputs": [],
   "source": []
  }
 ],
 "metadata": {
  "kernelspec": {
   "display_name": "Python 3",
   "language": "python",
   "name": "python3"
  },
  "language_info": {
   "codemirror_mode": {
    "name": "ipython",
    "version": 3
   },
   "file_extension": ".py",
   "mimetype": "text/x-python",
   "name": "python",
   "nbconvert_exporter": "python",
   "pygments_lexer": "ipython3",
   "version": "3.11.4"
  },
  "orig_nbformat": 4
 },
 "nbformat": 4,
 "nbformat_minor": 2
}
