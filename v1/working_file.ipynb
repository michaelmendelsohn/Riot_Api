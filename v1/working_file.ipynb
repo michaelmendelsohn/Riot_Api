{
 "cells": [
  {
   "cell_type": "code",
   "execution_count": 15,
   "metadata": {},
   "outputs": [],
   "source": [
    "_RIOT_API_KEY='RGAPI-79bd2f52-e028-4e9b-9a04-1764b72aecd8'\n",
    "from riotwatcher import LolWatcher\n",
    "import helper_functions as help\n",
    "from datetime import datetime\n",
    "lol_watcher = LolWatcher(_RIOT_API_KEY)"
   ]
  },
  {
   "cell_type": "markdown",
   "metadata": {},
   "source": [
    "\n",
    "1. get puuid for a summoner name - Summonerv4/by-name/summonername\n",
    "2. get list of match ids by puuid - Matchv5/ids\n",
    "3. Check database for which match ids i don't have - find_to_slurp\n",
    "4. Create a function that does the following\n",
    "- get match by match id - Matchv5/matchids\n",
    "    - Store in a DB\n",
    "- get match timeline by match id\n",
    "    - store in a DB\n",
    "5. Create concurrent processing that will speed this up"
   ]
  },
  {
   "cell_type": "code",
   "execution_count": 43,
   "metadata": {},
   "outputs": [],
   "source": [
    "match_list=help.get_matchlist_by_summoner_name('souporsecret', lol_watcher)\n",
    "len(match_list)\n",
    "arena_match = lol_watcher.match.by_id('na1', match_list[0])\n",
    "flex_match = lol_watcher.match.by_id('na1', match_list[4])\n"
   ]
  },
  {
   "cell_type": "code",
   "execution_count": 195,
   "metadata": {},
   "outputs": [
    {
     "data": {
      "text/plain": [
       "['lane',\n",
       " 'getBackPings',\n",
       " 'goldEarned',\n",
       " 'sightWardsBoughtInGame',\n",
       " 'totalTimeSpentDead',\n",
       " 'largestKillingSpree',\n",
       " 'spell4Casts',\n",
       " 'kills',\n",
       " 'trueDamageTaken',\n",
       " 'bountyLevel',\n",
       " 'damageDealtToObjectives',\n",
       " 'summoner1Casts',\n",
       " 'totalAllyJungleMinionsKilled',\n",
       " 'wardsKilled',\n",
       " 'magicDamageDealtToChampions',\n",
       " 'trueDamageDealtToChampions',\n",
       " 'dragonKills',\n",
       " 'assistMePings',\n",
       " 'spell1Casts',\n",
       " 'totalEnemyJungleMinionsKilled',\n",
       " 'pushPings',\n",
       " 'teamId',\n",
       " 'inhibitorTakedowns',\n",
       " 'unrealKills',\n",
       " 'puuid',\n",
       " 'totalMinionsKilled',\n",
       " 'win',\n",
       " 'consumablesPurchased',\n",
       " 'needVisionPings',\n",
       " 'quadraKills',\n",
       " 'inhibitorsLost',\n",
       " 'tripleKills',\n",
       " 'damageSelfMitigated',\n",
       " 'totalUnitsHealed',\n",
       " 'deaths',\n",
       " 'totalDamageShieldedOnTeammates',\n",
       " 'championTransform',\n",
       " 'damageDealtToTurrets',\n",
       " 'riotIdName',\n",
       " 'nexusTakedowns',\n",
       " 'visionScore',\n",
       " 'enemyMissingPings',\n",
       " 'item1',\n",
       " 'spell3Casts',\n",
       " 'spell2Casts',\n",
       " 'dangerPings',\n",
       " 'physicalDamageDealt',\n",
       " 'nexusKills',\n",
       " 'wardsPlaced',\n",
       " 'firstTowerKill',\n",
       " 'baitPings',\n",
       " 'playerAugment3',\n",
       " 'objectivesStolen',\n",
       " 'inhibitorKills',\n",
       " 'turretKills',\n",
       " 'doubleKills',\n",
       " 'championName',\n",
       " 'objectivesStolenAssists',\n",
       " 'totalDamageDealt',\n",
       " 'trueDamageDealt',\n",
       " 'role',\n",
       " 'enemyVisionPings',\n",
       " 'individualPosition',\n",
       " 'summonerId',\n",
       " 'subteamPlacement',\n",
       " 'magicDamageDealt',\n",
       " 'firstBloodAssist',\n",
       " 'item0',\n",
       " 'riotIdTagline',\n",
       " 'damageDealtToBuildings',\n",
       " 'detectorWardsPlaced',\n",
       " 'summoner1Id',\n",
       " 'largestMultiKill',\n",
       " 'playerAugment1',\n",
       " 'champLevel',\n",
       " 'magicDamageTaken',\n",
       " 'pentaKills',\n",
       " 'visionClearedPings',\n",
       " 'summoner2Casts',\n",
       " 'totalTimeCCDealt',\n",
       " 'largestCriticalStrike',\n",
       " 'timePlayed',\n",
       " 'visionWardsBoughtInGame',\n",
       " 'firstBloodKill',\n",
       " 'physicalDamageDealtToChampions',\n",
       " 'physicalDamageTaken',\n",
       " 'itemsPurchased',\n",
       " 'eligibleForProgression',\n",
       " 'item3',\n",
       " 'killingSprees',\n",
       " 'totalDamageDealtToChampions',\n",
       " 'onMyWayPings',\n",
       " 'teamEarlySurrendered',\n",
       " 'championId',\n",
       " 'profileIcon',\n",
       " 'totalHeal',\n",
       " 'totalHealsOnTeammates',\n",
       " 'assists',\n",
       " 'neutralMinionsKilled',\n",
       " 'firstTowerAssist',\n",
       " 'summonerLevel',\n",
       " 'nexusLost',\n",
       " 'turretTakedowns',\n",
       " 'gameEndedInSurrender',\n",
       " 'goldSpent',\n",
       " 'summoner2Id',\n",
       " 'turretsLost',\n",
       " 'allInPings',\n",
       " 'item2',\n",
       " 'item4',\n",
       " 'playerAugment2',\n",
       " 'baronKills',\n",
       " 'basicPings',\n",
       " 'commandPings',\n",
       " 'summonerName',\n",
       " 'item5',\n",
       " 'holdPings',\n",
       " 'playerSubteamId',\n",
       " 'timeCCingOthers',\n",
       " 'playerAugment4',\n",
       " 'totalDamageTaken',\n",
       " 'champExperience',\n",
       " 'longestTimeSpentLiving',\n",
       " 'gameEndedInEarlySurrender',\n",
       " 'item6',\n",
       " 'participantId',\n",
       " 'teamPosition']"
      ]
     },
     "execution_count": 195,
     "metadata": {},
     "output_type": "execute_result"
    }
   ],
   "source": [
    "info = flex_match['info']\n",
    "column_set=set(info['participants'][0].keys())\n",
    "column_set.remove('perks')\n",
    "column_set.remove('challenges')\n",
    "column_list = list(column_set)\n",
    "column_list"
   ]
  },
  {
   "cell_type": "code",
   "execution_count": 198,
   "metadata": {},
   "outputs": [
    {
     "ename": "AttributeError",
     "evalue": "'dict' object has no attribute 'remove'",
     "output_type": "error",
     "traceback": [
      "\u001b[1;31m---------------------------------------------------------------------------\u001b[0m",
      "\u001b[1;31mAttributeError\u001b[0m                            Traceback (most recent call last)",
      "Cell \u001b[1;32mIn[198], line 3\u001b[0m\n\u001b[0;32m      1\u001b[0m participants \u001b[39m=\u001b[39m []\n\u001b[0;32m      2\u001b[0m \u001b[39mfor\u001b[39;00m row \u001b[39min\u001b[39;00m info[\u001b[39m'\u001b[39m\u001b[39mparticipants\u001b[39m\u001b[39m'\u001b[39m]:\n\u001b[1;32m----> 3\u001b[0m     row\u001b[39m.\u001b[39;49mremove(\u001b[39m'\u001b[39m\u001b[39mchallenges\u001b[39m\u001b[39m'\u001b[39m)\n\u001b[0;32m      4\u001b[0m     \u001b[39mprint\u001b[39m(row)\n\u001b[0;32m      5\u001b[0m     \u001b[39m#participants_row = {}\u001b[39;00m\n",
      "\u001b[1;31mAttributeError\u001b[0m: 'dict' object has no attribute 'remove'"
     ]
    }
   ],
   "source": [
    "participants = []\n",
    "for row in info['participants']:\n",
    "    row.remove('challenges')\n",
    "    print(row)\n",
    "    #participants_row = {}"
   ]
  },
  {
   "cell_type": "code",
   "execution_count": 95,
   "metadata": {},
   "outputs": [
    {
     "name": "stdout",
     "output_type": "stream",
     "text": [
      "match time:  2023-07-17 20:53:05\n",
      "match duration: 2220 seconds\n"
     ]
    }
   ],
   "source": [
    "\n",
    "match_time = datetime.fromtimestamp(int(flex_match['info']['gameCreation']/1000)).strftime('%Y-%m-%d %H:%M:%S')\n",
    "print('match time: ', match_time)\n",
    "print('match duration:', flex_match['info']['gameDuration'], 'seconds' )"
   ]
  },
  {
   "cell_type": "code",
   "execution_count": null,
   "metadata": {},
   "outputs": [],
   "source": []
  },
  {
   "cell_type": "code",
   "execution_count": null,
   "metadata": {},
   "outputs": [],
   "source": []
  },
  {
   "cell_type": "code",
   "execution_count": 93,
   "metadata": {},
   "outputs": [
    {
     "data": {
      "text/plain": [
       "'2023-07-17 20:53:05'"
      ]
     },
     "execution_count": 93,
     "metadata": {},
     "output_type": "execute_result"
    }
   ],
   "source": []
  },
  {
   "cell_type": "code",
   "execution_count": 31,
   "metadata": {},
   "outputs": [],
   "source": []
  },
  {
   "cell_type": "code",
   "execution_count": null,
   "metadata": {},
   "outputs": [],
   "source": []
  }
 ],
 "metadata": {
  "kernelspec": {
   "display_name": "Python 3",
   "language": "python",
   "name": "python3"
  },
  "language_info": {
   "codemirror_mode": {
    "name": "ipython",
    "version": 3
   },
   "file_extension": ".py",
   "mimetype": "text/x-python",
   "name": "python",
   "nbconvert_exporter": "python",
   "pygments_lexer": "ipython3",
   "version": "3.11.4"
  },
  "orig_nbformat": 4
 },
 "nbformat": 4,
 "nbformat_minor": 2
}
