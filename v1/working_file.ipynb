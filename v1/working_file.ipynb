{
 "cells": [
  {
   "cell_type": "code",
   "execution_count": 1,
   "metadata": {},
   "outputs": [],
   "source": [
    "_RIOT_API_KEY='RGAPI-eb715053-5bb4-49af-b624-970e0673d75f'\n",
    "from riotwatcher import LolWatcher\n",
    "import helper_functions as help\n",
    "import constants\n",
    "import pandas as pd\n",
    "from datetime import datetime\n",
    "import mysql.connector\n",
    "from sqlalchemy import create_engine\n",
    "import concurrent.futures\n",
    "\n",
    "lol_watcher = LolWatcher(_RIOT_API_KEY)"
   ]
  },
  {
   "cell_type": "markdown",
   "metadata": {},
   "source": [
    "1. Implement retry for when the URL gets too many requests for 1 match. probably as simple as a wrapper function around the slurps in slurp_data that retries if the clienter error exception is returned\n",
    "e.g. Exception 429 Client Error: Too Many Requests for url: https://americas.api.riotgames.com/lol/match/v5/matches/NA1_4708472978/timeline thrown. Cancelling futures.\n",
    "\n",
    "2. Handle this exception: Exception 404 Client Error: Not Found for url: https://americas.api.riotgames.com/lol/match/v5/matches/NA1_3891774034 thrown. Cancelling futures.\n",
    "\n",
    "3. Handling processing by puuid instead of summonerName? \n",
    "    GoofyGriefer\tcT70cPTfqJ_gLJrZRqSTBO0lO3ZfM25tP4MRfvVsPw5CF5EHcdPILgojfnvBMudR9vJmnNAtFxiBvg\n",
    "    CerebralPlayer\tcT70cPTfqJ_gLJrZRqSTBO0lO3ZfM25tP4MRfvVsPw5CF5EHcdPILgojfnvBMudR9vJmnNAtFxiBvg\n",
    "    PepegaMindset\tcT70cPTfqJ_gLJrZRqSTBO0lO3ZfM25tP4MRfvVsPw5CF5EHcdPILgojfnvBMudR9vJmnNAtFxiBvg"
   ]
  },
  {
   "cell_type": "code",
   "execution_count": 3,
   "metadata": {},
   "outputs": [],
   "source": [
    "engine = help.create_mysql_engine()"
   ]
  },
  {
   "cell_type": "code",
   "execution_count": 15,
   "metadata": {},
   "outputs": [
    {
     "name": "stdout",
     "output_type": "stream",
     "text": [
      "0 matches to slurp!\n"
     ]
    }
   ],
   "source": [
    "# ~25 seconds for 50 matches. More if we've hit our API Limit.\n",
    "# 8m 16s for 800 records\n",
    "# PepegaMindset\n",
    "# CerebralPlayer\n",
    "help.collect_riot_api_data('Boss 0f This Gym', lol_watcher, 'lol_match_timeline',\n",
    "                            engine, match_upload_limit=800, num_worker_threads=2)"
   ]
  },
  {
   "cell_type": "code",
   "execution_count": 16,
   "metadata": {},
   "outputs": [
    {
     "name": "stdout",
     "output_type": "stream",
     "text": [
      "27 matches to slurp!\n",
      "Uploaded match id NA1_4630769530 lol_match_details data.\n",
      "Uploaded match id NA1_4630762225 lol_match_details data.\n",
      "Uploaded match id NA1_4566932094 lol_match_details data.\n",
      "Uploaded match id NA1_4566902372 lol_match_details data.\n",
      "Uploaded match id NA1_4556569779 lol_match_details data.\n",
      "Uploaded match id NA1_4556358077 lol_match_details data.\n",
      "Uploaded match id NA1_4556099487 lol_match_details data.Uploaded match id NA1_4554378852 lol_match_details data.\n",
      "\n",
      "Uploaded match id NA1_4550042149 lol_match_details data.\n",
      "Uploaded match id NA1_4550050576 lol_match_details data.\n",
      "Uploaded match id NA1_4490916049 lol_match_details data.\n",
      "Uploaded match id NA1_4547723290 lol_match_details data.\n",
      "Uploaded match id NA1_4490836221 lol_match_details data.\n",
      "Uploaded match id NA1_4490784654 lol_match_details data.\n",
      "Uploaded match id NA1_4490608309 lol_match_details data.\n",
      "Uploaded match id NA1_4490751690 lol_match_details data.\n",
      "Uploaded match id NA1_4327930754 lol_match_details data.\n",
      "Uploaded match id NA1_4490578662 lol_match_details data.\n",
      "Uploaded match id NA1_4323635578 lol_match_details data.\n",
      "Uploaded match id NA1_4266424748 lol_match_details data.\n",
      "Uploaded match id NA1_4266420672 lol_match_details data.\n",
      "Uploaded match id NA1_4224316406 lol_match_details data.\n",
      "Exception 429 Client Error: Too Many Requests for url: https://americas.api.riotgames.com/lol/match/v5/matches/NA1_3920598010 thrown. Cancelling futures.\n",
      "Uploaded match id NA1_4214305810 lol_match_details data.\n"
     ]
    }
   ],
   "source": [
    "# 23.7 seconds for 50 matches, 1 thread\n",
    "# 7.4 seconds for 20 matches, 2 threads\n",
    "# 5 seconds for 20 matches, 4 threads\n",
    "# 4.7 seconds for 20 matches, 8 threads\n",
    "# 5.8 seconds for 50 matches, 8 threads\n",
    "\n",
    "help.collect_riot_api_data('Boss 0f This Gym', lol_watcher, 'lol_match_details',\n",
    "                            engine, match_upload_limit=800, num_worker_threads=2)\n"
   ]
  },
  {
   "cell_type": "code",
   "execution_count": null,
   "metadata": {},
   "outputs": [],
   "source": []
  }
 ],
 "metadata": {
  "kernelspec": {
   "display_name": "Python 3",
   "language": "python",
   "name": "python3"
  },
  "language_info": {
   "codemirror_mode": {
    "name": "ipython",
    "version": 3
   },
   "file_extension": ".py",
   "mimetype": "text/x-python",
   "name": "python",
   "nbconvert_exporter": "python",
   "pygments_lexer": "ipython3",
   "version": "3.11.4"
  },
  "orig_nbformat": 4
 },
 "nbformat": 4,
 "nbformat_minor": 2
}
