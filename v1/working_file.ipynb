{
 "cells": [
  {
   "cell_type": "code",
   "execution_count": 1,
   "metadata": {},
   "outputs": [],
   "source": [
    "_RIOT_API_KEY='RGAPI-0a48f46d-50e5-4744-b116-3aa0a270934c'\n",
    "from riotwatcher import LolWatcher\n",
    "import helper_functions as help\n",
    "import constants\n",
    "import pandas as pd\n",
    "from datetime import datetime\n",
    "import mysql.connector\n",
    "from sqlalchemy import create_engine\n",
    "import concurrent.futures\n",
    "\n",
    "lol_watcher = LolWatcher(_RIOT_API_KEY)"
   ]
  },
  {
   "cell_type": "markdown",
   "metadata": {},
   "source": [
    "\n",
    "1. get puuid for a summoner name - Summonerv4/by-name/summonername\n",
    "2. get list of match ids by puuid - Matchv5/ids\n",
    "3. Check database for which match ids i don't have - find_to_slurp\n",
    "4. Create a function that does the following\n",
    "- get match by match id - Matchv5/matchids\n",
    "    - Store in a DB\n",
    "- get match timeline by match id\n",
    "    - store in a DB\n",
    "5. Create concurrent processing that will speed this up"
   ]
  },
  {
   "cell_type": "markdown",
   "metadata": {},
   "source": [
    "# Find To Slurp\n"
   ]
  },
  {
   "cell_type": "code",
   "execution_count": 3,
   "metadata": {},
   "outputs": [
    {
     "data": {
      "text/plain": [
       "['NA1_4393904069']"
      ]
     },
     "execution_count": 3,
     "metadata": {},
     "output_type": "execute_result"
    }
   ],
   "source": [
    "\n",
    "# user = 'root'\n",
    "# password = 'iamgroot482'\n",
    "# port = '3306'\n",
    "# host = '127.0.0.1'\n",
    "# database = 'riot_api'\n",
    "# url=\"mysql+mysqlconnector://{0}:{1}@{2}:{3}/{4}\".format(\n",
    "#             user, password, host, port, database\n",
    "#         )\n",
    "# engine = create_engine(url)    \n",
    "engine = help.create_mysql_engine()\n",
    "to_slurp = help.find_to_slurp('souporsecret', lol_watcher, 'lol_match_details', engine)\n",
    "to_slurp"
   ]
  },
  {
   "cell_type": "code",
   "execution_count": 2,
   "metadata": {},
   "outputs": [],
   "source": [
    "## This is the mother function you run.\n",
    "## summoner_name  (string) - Name of summoner to pull data for\n",
    "## lol_watcher (object) - Authenticated lol_watcher object\n",
    "## table_name (string) - Table we want to populate. either 'lol_match_timeline' or 'lol_match_details'\n",
    "## db_engine (sqlAlchemy Engine Object)- Connection to mySQLDatabase from sqlAlchemy's create_engine.\n",
    "##                                        Use create_mysql_engine helper function with default settings.\n",
    "## region (string) - Region account is in. Defaults to NA\n",
    "def collect_riot_api_data(summoner_name, lol_watcher, table_name, db_engine, region='na1', num_worker_threads=4, match_upload_limit=20):\n",
    "    # First We run find_to_slurp to avoid pulling data for matches we have already pulled\n",
    "    to_slurp = help.find_to_slurp(summoner_name, lol_watcher, table_name, db_engine)\n",
    "\n",
    "    # Next we use slurp_data to pull the data from Riot API\n",
    "    # Set Up multiprocessing for this later\n",
    "\n",
    "    def worker (match_id):\n",
    "        df_to_upload = help.slurp_data(lol_watcher, match_id, table_name, region=region)\n",
    "        if df_to_upload is not None:\n",
    "            df_to_upload.to_sql(con=db_engine, name=table_name, if_exists='append', index = False)\n",
    "            print(f\"Uploaded match id {match_id} {table_name} data.\")\n",
    "        else: \n",
    "            print(f'Match id {match_id} returns None.')\n",
    "\n",
    "    with concurrent.futures.ThreadPoolExecutor(max_workers = num_worker_threads) as executor:\n",
    "        to_slurp = to_slurp[:match_upload_limit]\n",
    "        futures = [ executor.submit(worker, match_id) for match_id in to_slurp ]\n",
    "\n",
    "        try: \n",
    "            for future in concurrent.futures.as_completed(futures):\n",
    "                future.result()\n",
    "        except Exception as e:\n",
    "            print(f\"Exception {e} thrown. Cancelling futures.\")\n",
    "\n",
    "    # for match_id in to_slurp[:10]:\n",
    "    #     df_to_upload = help.slurp_data(lol_watcher, match_id, table_name, region='na1')\n",
    "    #     df_to_upload.to_sql(con=db_engine, name=table_name, if_exists='append', index = False)\n",
    "    #     print(f\"Uploaded match_id {match_id} {table_name} data.\")\n",
    "    # print('Done')"
   ]
  },
  {
   "cell_type": "code",
   "execution_count": 5,
   "metadata": {},
   "outputs": [
    {
     "name": "stdout",
     "output_type": "stream",
     "text": [
      "Empty Game. Returning None for Match Timeline.\n",
      "Match id NA1_4393904069 returns None.\n"
     ]
    }
   ],
   "source": [
    "engine = help.create_mysql_engine()\n",
    "collect_riot_api_data('souporsecret', lol_watcher, 'lol_match_timeline', engine, match_upload_limit=800, num_worker_threads=1)"
   ]
  },
  {
   "cell_type": "code",
   "execution_count": 6,
   "metadata": {},
   "outputs": [
    {
     "name": "stdout",
     "output_type": "stream",
     "text": [
      "Empty Game. Returning None for Match Details.\n",
      "Match id NA1_4393904069 returns None.\n"
     ]
    }
   ],
   "source": [
    "engine = help.create_mysql_engine()\n",
    "collect_riot_api_data('souporsecret', lol_watcher, 'lol_match_details', engine, match_upload_limit=800, num_worker_threads=1)"
   ]
  },
  {
   "cell_type": "code",
   "execution_count": null,
   "metadata": {},
   "outputs": [],
   "source": []
  }
 ],
 "metadata": {
  "kernelspec": {
   "display_name": "Python 3",
   "language": "python",
   "name": "python3"
  },
  "language_info": {
   "codemirror_mode": {
    "name": "ipython",
    "version": 3
   },
   "file_extension": ".py",
   "mimetype": "text/x-python",
   "name": "python",
   "nbconvert_exporter": "python",
   "pygments_lexer": "ipython3",
   "version": "3.11.4"
  },
  "orig_nbformat": 4
 },
 "nbformat": 4,
 "nbformat_minor": 2
}
