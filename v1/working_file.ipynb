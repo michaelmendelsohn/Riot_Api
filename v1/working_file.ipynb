{
 "cells": [
  {
   "cell_type": "code",
   "execution_count": 1,
   "metadata": {},
   "outputs": [],
   "source": [
    "_RIOT_API_KEY='RGAPI-79bd2f52-e028-4e9b-9a04-1764b72aecd8'\n",
    "from riotwatcher import LolWatcher\n",
    "import helper_functions as help\n",
    "import constants\n",
    "import pandas as pd\n",
    "from datetime import datetime\n",
    "lol_watcher = LolWatcher(_RIOT_API_KEY)"
   ]
  },
  {
   "cell_type": "markdown",
   "metadata": {},
   "source": [
    "\n",
    "1. get puuid for a summoner name - Summonerv4/by-name/summonername\n",
    "2. get list of match ids by puuid - Matchv5/ids\n",
    "3. Check database for which match ids i don't have - find_to_slurp\n",
    "4. Create a function that does the following\n",
    "- get match by match id - Matchv5/matchids\n",
    "    - Store in a DB\n",
    "- get match timeline by match id\n",
    "    - store in a DB\n",
    "5. Create concurrent processing that will speed this up"
   ]
  },
  {
   "cell_type": "code",
   "execution_count": 2,
   "metadata": {},
   "outputs": [],
   "source": [
    "match_list=help.get_matchlist_by_summoner_name('souporsecret', lol_watcher)\n",
    "len(match_list)\n",
    "arena_match = lol_watcher.match.by_id('na1', match_list[0])\n",
    "flex_match = lol_watcher.match.by_id('na1', match_list[4])\n"
   ]
  },
  {
   "cell_type": "code",
   "execution_count": null,
   "metadata": {},
   "outputs": [],
   "source": []
  },
  {
   "cell_type": "code",
   "execution_count": 3,
   "metadata": {},
   "outputs": [
    {
     "ename": "NameError",
     "evalue": "name 'queues_dict' is not defined",
     "output_type": "error",
     "traceback": [
      "\u001b[1;31m---------------------------------------------------------------------------\u001b[0m",
      "\u001b[1;31mNameError\u001b[0m                                 Traceback (most recent call last)",
      "Cell \u001b[1;32mIn[3], line 1\u001b[0m\n\u001b[1;32m----> 1\u001b[0m queues_dict[\u001b[39m440\u001b[39m]\n",
      "\u001b[1;31mNameError\u001b[0m: name 'queues_dict' is not defined"
     ]
    }
   ],
   "source": [
    "queues_dict[440]"
   ]
  },
  {
   "cell_type": "code",
   "execution_count": 5,
   "metadata": {},
   "outputs": [],
   "source": [
    "item_dict = constants.get_items(lol_watcher)\n",
    "spell_dict = constants.get_spells(lol_watcher)\n",
    "queues_dict = constants.get_queues()\n",
    "match_info = flex_match['info']\n",
    "\n",
    "\n",
    "#remove the challenge and perk info, we don't care about that shit. keep everything else\n",
    "[match_info['participants'][i].pop('perks') for i in range(len(match_info['participants'])) ]\n",
    "[match_info['participants'][i].pop('challenges') for i in range(len(match_info['participants'])) ]\n",
    "\n",
    "#Turn the data into a DF format\n",
    "df = pd.DataFrame(data=match_info['participants'], columns = list(match_info['participants'][0].keys()))\n",
    "df_length = len(df)\n",
    "\n",
    "# Add match_specific_data to each participant's row\n",
    "df['matchId'] = [flex_match['metadata']['matchId'] for i in range(df_length)]\n",
    "df['region'] = [flex_match['info']['platformId'] for i in range(df_length)]\n",
    "df['gameDurationSeconds'] = [flex_match['info']['gameDuration'] for i in range(df_length)]\n",
    "match_time = datetime.fromtimestamp(int(flex_match['info']['gameCreation']/1000))\n",
    "df['gameCreationDate'] = [match_time for i in range(df_length)]\n",
    "df['queueId'] = [flex_match['info']['queueId'] for i in range(df_length)]\n",
    "\n",
    "\n",
    "# convert the Ids to Strings\n",
    "df['winFlag'] =  df['win'].apply(str).map({'True':1, 'False':0})\n",
    "df['teamName'] = df['teamId'].apply(str).map({'100':'Blue', '200':'Red'})\n",
    "df['item1Name'] = df['item1'].apply(str).map(item_dict)\n",
    "df['item2Name'] = df['item2'].apply(str).map(item_dict)\n",
    "df['item3Name'] = df['item3'].apply(str).map(item_dict)\n",
    "df['item4Name'] = df['item4'].apply(str).map(item_dict)\n",
    "df['item5Name'] = df['item5'].apply(str).map(item_dict)\n",
    "df['item6Name'] = df['item6'].apply(str).map(item_dict)\n",
    "df['summoner1Name'] = df['summoner1Id'].apply(str).map(spell_dict)\n",
    "df['summoner2Name'] = df['summoner2Id'].apply(str).map(spell_dict)\n",
    "df['queueName'] = df['queueId'].apply(str).map(queues_dict)\n",
    "\n",
    "\n",
    "\n",
    "\n",
    "\n"
   ]
  },
  {
   "cell_type": "code",
   "execution_count": 6,
   "metadata": {},
   "outputs": [],
   "source": [
    "df.to_csv('teehee.csv')\n"
   ]
  },
  {
   "cell_type": "code",
   "execution_count": 35,
   "metadata": {},
   "outputs": [
    {
     "name": "stdout",
     "output_type": "stream",
     "text": [
      "match time:  2023-07-17 20:53:05\n",
      "match duration: 2220 seconds\n"
     ]
    }
   ],
   "source": [
    "\n",
    "match_time = datetime.fromtimestamp(int(flex_match['info']['gameCreation']/1000))\n",
    "print('match time: ', match_time)\n",
    "print('match duration:', flex_match['info']['gameDuration'], 'seconds' )"
   ]
  },
  {
   "cell_type": "code",
   "execution_count": 37,
   "metadata": {},
   "outputs": [
    {
     "name": "stdout",
     "output_type": "stream",
     "text": [
      "2023-07-17 20:53:05\n"
     ]
    }
   ],
   "source": [
    "print(match_time)"
   ]
  },
  {
   "cell_type": "code",
   "execution_count": null,
   "metadata": {},
   "outputs": [],
   "source": []
  },
  {
   "cell_type": "code",
   "execution_count": 93,
   "metadata": {},
   "outputs": [
    {
     "data": {
      "text/plain": [
       "'2023-07-17 20:53:05'"
      ]
     },
     "execution_count": 93,
     "metadata": {},
     "output_type": "execute_result"
    }
   ],
   "source": []
  },
  {
   "cell_type": "code",
   "execution_count": 31,
   "metadata": {},
   "outputs": [],
   "source": []
  },
  {
   "cell_type": "code",
   "execution_count": null,
   "metadata": {},
   "outputs": [],
   "source": []
  }
 ],
 "metadata": {
  "kernelspec": {
   "display_name": "Python 3",
   "language": "python",
   "name": "python3"
  },
  "language_info": {
   "codemirror_mode": {
    "name": "ipython",
    "version": 3
   },
   "file_extension": ".py",
   "mimetype": "text/x-python",
   "name": "python",
   "nbconvert_exporter": "python",
   "pygments_lexer": "ipython3",
   "version": "3.11.4"
  },
  "orig_nbformat": 4
 },
 "nbformat": 4,
 "nbformat_minor": 2
}
