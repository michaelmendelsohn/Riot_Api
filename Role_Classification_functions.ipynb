{
 "metadata": {
  "language_info": {
   "codemirror_mode": {
    "name": "ipython",
    "version": 3
   },
   "file_extension": ".py",
   "mimetype": "text/x-python",
   "name": "python",
   "nbconvert_exporter": "python",
   "pygments_lexer": "ipython3",
   "version": "3.9.2"
  },
  "orig_nbformat": 2,
  "kernelspec": {
   "name": "python3",
   "display_name": "Python 3.9.2 64-bit",
   "metadata": {
    "interpreter": {
     "hash": "3cb19a7de07f7df9a1ac65bede0c112e2ce18daa0dd50491eae5f12b20c54ea1"
    }
   }
  }
 },
 "nbformat": 4,
 "nbformat_minor": 2,
 "cells": [
  {
   "cell_type": "code",
   "execution_count": 34,
   "metadata": {},
   "outputs": [
    {
     "output_type": "execute_result",
     "data": {
      "text/plain": [
       "   minute  participantId  totalGold  level   xp  minionsKilled  \\\n",
       "0       0              7        500      1    0              0   \n",
       "1       1              7        500      1    0              0   \n",
       "2       2              7        584      1  181              3   \n",
       "\n",
       "   jungleMinionsKilled      gameId                 queue teamId  win  \\\n",
       "0                    0  3849016581  5v5 Draft Pick games    Red    0   \n",
       "1                    0  3849016581  5v5 Draft Pick games    Red    0   \n",
       "2                    0  3849016581  5v5 Draft Pick games    Red    0   \n",
       "\n",
       "  champion_name  role lane      summonerName  pos_x  pos_y spell0    spell1  \\\n",
       "0        Darius  SOLO  TOP  Boss 0f This Gym  14180  14271  Flash  Teleport   \n",
       "1        Darius  SOLO  TOP  Boss 0f This Gym   6767  11479  Flash  Teleport   \n",
       "2        Darius  SOLO  TOP  Boss 0f This Gym   2170  12608  Flash  Teleport   \n",
       "\n",
       "       item0          item1             item2          item3  \\\n",
       "0  Thornmail  Stridebreaker  Plated Steelcaps  Sterak's Gage   \n",
       "1  Thornmail  Stridebreaker  Plated Steelcaps  Sterak's Gage   \n",
       "2  Thornmail  Stridebreaker  Plated Steelcaps  Sterak's Gage   \n",
       "\n",
       "              item4                  item5  \n",
       "0  Dead Man's Plate  Caulfield's Warhammer  \n",
       "1  Dead Man's Plate  Caulfield's Warhammer  \n",
       "2  Dead Man's Plate  Caulfield's Warhammer  "
      ],
      "text/html": "<div>\n<style scoped>\n    .dataframe tbody tr th:only-of-type {\n        vertical-align: middle;\n    }\n\n    .dataframe tbody tr th {\n        vertical-align: top;\n    }\n\n    .dataframe thead th {\n        text-align: right;\n    }\n</style>\n<table border=\"1\" class=\"dataframe\">\n  <thead>\n    <tr style=\"text-align: right;\">\n      <th></th>\n      <th>minute</th>\n      <th>participantId</th>\n      <th>totalGold</th>\n      <th>level</th>\n      <th>xp</th>\n      <th>minionsKilled</th>\n      <th>jungleMinionsKilled</th>\n      <th>gameId</th>\n      <th>queue</th>\n      <th>teamId</th>\n      <th>win</th>\n      <th>champion_name</th>\n      <th>role</th>\n      <th>lane</th>\n      <th>summonerName</th>\n      <th>pos_x</th>\n      <th>pos_y</th>\n      <th>spell0</th>\n      <th>spell1</th>\n      <th>item0</th>\n      <th>item1</th>\n      <th>item2</th>\n      <th>item3</th>\n      <th>item4</th>\n      <th>item5</th>\n    </tr>\n  </thead>\n  <tbody>\n    <tr>\n      <th>0</th>\n      <td>0</td>\n      <td>7</td>\n      <td>500</td>\n      <td>1</td>\n      <td>0</td>\n      <td>0</td>\n      <td>0</td>\n      <td>3849016581</td>\n      <td>5v5 Draft Pick games</td>\n      <td>Red</td>\n      <td>0</td>\n      <td>Darius</td>\n      <td>SOLO</td>\n      <td>TOP</td>\n      <td>Boss 0f This Gym</td>\n      <td>14180</td>\n      <td>14271</td>\n      <td>Flash</td>\n      <td>Teleport</td>\n      <td>Thornmail</td>\n      <td>Stridebreaker</td>\n      <td>Plated Steelcaps</td>\n      <td>Sterak's Gage</td>\n      <td>Dead Man's Plate</td>\n      <td>Caulfield's Warhammer</td>\n    </tr>\n    <tr>\n      <th>1</th>\n      <td>1</td>\n      <td>7</td>\n      <td>500</td>\n      <td>1</td>\n      <td>0</td>\n      <td>0</td>\n      <td>0</td>\n      <td>3849016581</td>\n      <td>5v5 Draft Pick games</td>\n      <td>Red</td>\n      <td>0</td>\n      <td>Darius</td>\n      <td>SOLO</td>\n      <td>TOP</td>\n      <td>Boss 0f This Gym</td>\n      <td>6767</td>\n      <td>11479</td>\n      <td>Flash</td>\n      <td>Teleport</td>\n      <td>Thornmail</td>\n      <td>Stridebreaker</td>\n      <td>Plated Steelcaps</td>\n      <td>Sterak's Gage</td>\n      <td>Dead Man's Plate</td>\n      <td>Caulfield's Warhammer</td>\n    </tr>\n    <tr>\n      <th>2</th>\n      <td>2</td>\n      <td>7</td>\n      <td>584</td>\n      <td>1</td>\n      <td>181</td>\n      <td>3</td>\n      <td>0</td>\n      <td>3849016581</td>\n      <td>5v5 Draft Pick games</td>\n      <td>Red</td>\n      <td>0</td>\n      <td>Darius</td>\n      <td>SOLO</td>\n      <td>TOP</td>\n      <td>Boss 0f This Gym</td>\n      <td>2170</td>\n      <td>12608</td>\n      <td>Flash</td>\n      <td>Teleport</td>\n      <td>Thornmail</td>\n      <td>Stridebreaker</td>\n      <td>Plated Steelcaps</td>\n      <td>Sterak's Gage</td>\n      <td>Dead Man's Plate</td>\n      <td>Caulfield's Warhammer</td>\n    </tr>\n  </tbody>\n</table>\n</div>"
     },
     "metadata": {},
     "execution_count": 34
    }
   ],
   "source": [
    "import pandas as pd\n",
    "import pandasql as psql\n",
    "import time\n",
    "import math\n",
    "df_soup0=pd.read_csv(\"100_Match_Stats_Souporsecretv4(spell).csv\")\n",
    "pd.options.display.max_columns = None\n",
    "prep_q1 = \"SELECT * from df_soup0 where queue not in (\\\"5v5 ARAM games\\\", \\\"URF games\\\")\"\n",
    "df_soup = psql.sqldf(prep_q1, locals())\n",
    "df_soup.head(3)"
   ]
  },
  {
   "cell_type": "code",
   "execution_count": 35,
   "metadata": {
    "tags": []
   },
   "outputs": [
    {
     "output_type": "stream",
     "name": "stdout",
     "text": [
      "0  minutes and  2.760428800000227 seconds. \n"
     ]
    },
    {
     "output_type": "execute_result",
     "data": {
      "text/plain": [
       "   minute  participantId  totalGold  level    xp  minionsKilled  \\\n",
       "0       0              7        500      1     0              0   \n",
       "1       1              7        500      1     0              0   \n",
       "2       2              7        584      1   181              3   \n",
       "3       3              7        839      3   661             11   \n",
       "4       4              7       1106      3  1054             17   \n",
       "\n",
       "   jungleMinionsKilled      gameId                 queue teamId  win  \\\n",
       "0                    0  3849016581  5v5 Draft Pick games    Red    0   \n",
       "1                    0  3849016581  5v5 Draft Pick games    Red    0   \n",
       "2                    0  3849016581  5v5 Draft Pick games    Red    0   \n",
       "3                    0  3849016581  5v5 Draft Pick games    Red    0   \n",
       "4                    0  3849016581  5v5 Draft Pick games    Red    0   \n",
       "\n",
       "  champion_name  role lane      summonerName  pos_x  pos_y spell0    spell1  \\\n",
       "0        Darius  SOLO  TOP  Boss 0f This Gym  14180  14271  Flash  Teleport   \n",
       "1        Darius  SOLO  TOP  Boss 0f This Gym   6767  11479  Flash  Teleport   \n",
       "2        Darius  SOLO  TOP  Boss 0f This Gym   2170  12608  Flash  Teleport   \n",
       "3        Darius  SOLO  TOP  Boss 0f This Gym   1996  12305  Flash  Teleport   \n",
       "4        Darius  SOLO  TOP  Boss 0f This Gym   7570  13600  Flash  Teleport   \n",
       "\n",
       "       item0          item1             item2          item3  \\\n",
       "0  Thornmail  Stridebreaker  Plated Steelcaps  Sterak's Gage   \n",
       "1  Thornmail  Stridebreaker  Plated Steelcaps  Sterak's Gage   \n",
       "2  Thornmail  Stridebreaker  Plated Steelcaps  Sterak's Gage   \n",
       "3  Thornmail  Stridebreaker  Plated Steelcaps  Sterak's Gage   \n",
       "4  Thornmail  Stridebreaker  Plated Steelcaps  Sterak's Gage   \n",
       "\n",
       "              item4                  item5 pos_lane  \n",
       "0  Dead Man's Plate  Caulfield's Warhammer      TOP  \n",
       "1  Dead Man's Plate  Caulfield's Warhammer      TOP  \n",
       "2  Dead Man's Plate  Caulfield's Warhammer      TOP  \n",
       "3  Dead Man's Plate  Caulfield's Warhammer      TOP  \n",
       "4  Dead Man's Plate  Caulfield's Warhammer      TOP  "
      ],
      "text/html": "<div>\n<style scoped>\n    .dataframe tbody tr th:only-of-type {\n        vertical-align: middle;\n    }\n\n    .dataframe tbody tr th {\n        vertical-align: top;\n    }\n\n    .dataframe thead th {\n        text-align: right;\n    }\n</style>\n<table border=\"1\" class=\"dataframe\">\n  <thead>\n    <tr style=\"text-align: right;\">\n      <th></th>\n      <th>minute</th>\n      <th>participantId</th>\n      <th>totalGold</th>\n      <th>level</th>\n      <th>xp</th>\n      <th>minionsKilled</th>\n      <th>jungleMinionsKilled</th>\n      <th>gameId</th>\n      <th>queue</th>\n      <th>teamId</th>\n      <th>win</th>\n      <th>champion_name</th>\n      <th>role</th>\n      <th>lane</th>\n      <th>summonerName</th>\n      <th>pos_x</th>\n      <th>pos_y</th>\n      <th>spell0</th>\n      <th>spell1</th>\n      <th>item0</th>\n      <th>item1</th>\n      <th>item2</th>\n      <th>item3</th>\n      <th>item4</th>\n      <th>item5</th>\n      <th>pos_lane</th>\n    </tr>\n  </thead>\n  <tbody>\n    <tr>\n      <th>0</th>\n      <td>0</td>\n      <td>7</td>\n      <td>500</td>\n      <td>1</td>\n      <td>0</td>\n      <td>0</td>\n      <td>0</td>\n      <td>3849016581</td>\n      <td>5v5 Draft Pick games</td>\n      <td>Red</td>\n      <td>0</td>\n      <td>Darius</td>\n      <td>SOLO</td>\n      <td>TOP</td>\n      <td>Boss 0f This Gym</td>\n      <td>14180</td>\n      <td>14271</td>\n      <td>Flash</td>\n      <td>Teleport</td>\n      <td>Thornmail</td>\n      <td>Stridebreaker</td>\n      <td>Plated Steelcaps</td>\n      <td>Sterak's Gage</td>\n      <td>Dead Man's Plate</td>\n      <td>Caulfield's Warhammer</td>\n      <td>TOP</td>\n    </tr>\n    <tr>\n      <th>1</th>\n      <td>1</td>\n      <td>7</td>\n      <td>500</td>\n      <td>1</td>\n      <td>0</td>\n      <td>0</td>\n      <td>0</td>\n      <td>3849016581</td>\n      <td>5v5 Draft Pick games</td>\n      <td>Red</td>\n      <td>0</td>\n      <td>Darius</td>\n      <td>SOLO</td>\n      <td>TOP</td>\n      <td>Boss 0f This Gym</td>\n      <td>6767</td>\n      <td>11479</td>\n      <td>Flash</td>\n      <td>Teleport</td>\n      <td>Thornmail</td>\n      <td>Stridebreaker</td>\n      <td>Plated Steelcaps</td>\n      <td>Sterak's Gage</td>\n      <td>Dead Man's Plate</td>\n      <td>Caulfield's Warhammer</td>\n      <td>TOP</td>\n    </tr>\n    <tr>\n      <th>2</th>\n      <td>2</td>\n      <td>7</td>\n      <td>584</td>\n      <td>1</td>\n      <td>181</td>\n      <td>3</td>\n      <td>0</td>\n      <td>3849016581</td>\n      <td>5v5 Draft Pick games</td>\n      <td>Red</td>\n      <td>0</td>\n      <td>Darius</td>\n      <td>SOLO</td>\n      <td>TOP</td>\n      <td>Boss 0f This Gym</td>\n      <td>2170</td>\n      <td>12608</td>\n      <td>Flash</td>\n      <td>Teleport</td>\n      <td>Thornmail</td>\n      <td>Stridebreaker</td>\n      <td>Plated Steelcaps</td>\n      <td>Sterak's Gage</td>\n      <td>Dead Man's Plate</td>\n      <td>Caulfield's Warhammer</td>\n      <td>TOP</td>\n    </tr>\n    <tr>\n      <th>3</th>\n      <td>3</td>\n      <td>7</td>\n      <td>839</td>\n      <td>3</td>\n      <td>661</td>\n      <td>11</td>\n      <td>0</td>\n      <td>3849016581</td>\n      <td>5v5 Draft Pick games</td>\n      <td>Red</td>\n      <td>0</td>\n      <td>Darius</td>\n      <td>SOLO</td>\n      <td>TOP</td>\n      <td>Boss 0f This Gym</td>\n      <td>1996</td>\n      <td>12305</td>\n      <td>Flash</td>\n      <td>Teleport</td>\n      <td>Thornmail</td>\n      <td>Stridebreaker</td>\n      <td>Plated Steelcaps</td>\n      <td>Sterak's Gage</td>\n      <td>Dead Man's Plate</td>\n      <td>Caulfield's Warhammer</td>\n      <td>TOP</td>\n    </tr>\n    <tr>\n      <th>4</th>\n      <td>4</td>\n      <td>7</td>\n      <td>1106</td>\n      <td>3</td>\n      <td>1054</td>\n      <td>17</td>\n      <td>0</td>\n      <td>3849016581</td>\n      <td>5v5 Draft Pick games</td>\n      <td>Red</td>\n      <td>0</td>\n      <td>Darius</td>\n      <td>SOLO</td>\n      <td>TOP</td>\n      <td>Boss 0f This Gym</td>\n      <td>7570</td>\n      <td>13600</td>\n      <td>Flash</td>\n      <td>Teleport</td>\n      <td>Thornmail</td>\n      <td>Stridebreaker</td>\n      <td>Plated Steelcaps</td>\n      <td>Sterak's Gage</td>\n      <td>Dead Man's Plate</td>\n      <td>Caulfield's Warhammer</td>\n      <td>TOP</td>\n    </tr>\n  </tbody>\n</table>\n</div>"
     },
     "metadata": {},
     "execution_count": 35
    }
   ],
   "source": [
    "#top_anchor =[0,14600]\n",
    "#mid_anchor =[7300,7300]\n",
    "#bot_anchor =[14600,0]\n",
    "def lane_by_position(df,mins=[4,5,6,7,8],top_anchor = [0,14600], mid_anchor = [7300,7300], bot_anchor = [14600,0]):\n",
    "\n",
    "    df_mins=df[df['minute'].isin(mins)].copy()\n",
    "    df_mins['dist_top']=[math.dist([i,j],top_anchor) for i,j in zip(df_mins['pos_x'],df_mins['pos_y'])]\n",
    "    df_mins['dist_mid']=[math.dist([i,j],mid_anchor) for i,j in zip(df_mins['pos_x'],df_mins['pos_y'])]\n",
    "    df_mins['dist_bot']=[math.dist([i,j],bot_anchor) for i,j in zip(df_mins['pos_x'],df_mins['pos_y'])]\n",
    "    df_mins['min_dist']=df_mins[['dist_top','dist_mid','dist_bot']].min(axis=1)\n",
    "\n",
    "    lane_assignment=[]\n",
    "    #iterate through each row\n",
    "    for i in range(len(df_mins)):\n",
    "\n",
    "        # for each row, check which distance is = to the minimum distances\n",
    "        if df_mins.iloc[i].dist_bot==df_mins.iloc[i].min_dist:\n",
    "            lane_assignment.append(\"BOTTOM\")\n",
    "            \n",
    "        elif df_mins.iloc[i].dist_mid==df_mins.iloc[i].min_dist:\n",
    "            lane_assignment.append(\"MIDDLE\")\n",
    "            \n",
    "        elif df_mins.iloc[i].dist_top==df_mins.iloc[i].min_dist:\n",
    "            lane_assignment.append(\"TOP\")\n",
    "\n",
    "    #lane_assignment\n",
    "    df_mins['pos_lane']=lane_assignment\n",
    "    df_mins.head(15)\n",
    "    \n",
    "    #make df smaller for group by\n",
    "    df_mins2=df_mins[['champion_name','gameId','pos_lane']].copy()\n",
    "    #take the mode of where the champion's calculated lane should be'\n",
    "    position_flag_df=df_mins2.groupby(['champion_name','gameId']).agg(lambda x:x.value_counts().index[0])\n",
    "    \n",
    "    df_merge=df.merge(position_flag_df,on=['champion_name','gameId'])\n",
    "    #want to return OG dataframe, but with another column of the new mapping\n",
    "    return df_merge\n",
    "\n",
    "\n",
    "beg=time.perf_counter()\n",
    "w = lane_by_position(df_soup)\n",
    "end=time.perf_counter()\n",
    "runtime=end-beg\n",
    "print(int(runtime/60), \" minutes and \", runtime%60, \"seconds. \")\n",
    "w.head(5)"
   ]
  },
  {
   "cell_type": "code",
   "execution_count": 36,
   "metadata": {
    "tags": []
   },
   "outputs": [
    {
     "output_type": "stream",
     "name": "stdout",
     "text": [
      "0  minutes and  1.4406970000000001 seconds. \n"
     ]
    },
    {
     "output_type": "execute_result",
     "data": {
      "text/plain": [
       "   minute  participantId  totalGold  level    xp  minionsKilled  \\\n",
       "0       0              7        500      1     0              0   \n",
       "1       1              7        500      1     0              0   \n",
       "2       2              7        584      1   181              3   \n",
       "3       3              7        839      3   661             11   \n",
       "4       4              7       1106      3  1054             17   \n",
       "\n",
       "   jungleMinionsKilled      gameId                 queue teamId  win  \\\n",
       "0                    0  3849016581  5v5 Draft Pick games    Red    0   \n",
       "1                    0  3849016581  5v5 Draft Pick games    Red    0   \n",
       "2                    0  3849016581  5v5 Draft Pick games    Red    0   \n",
       "3                    0  3849016581  5v5 Draft Pick games    Red    0   \n",
       "4                    0  3849016581  5v5 Draft Pick games    Red    0   \n",
       "\n",
       "  champion_name  role lane      summonerName  pos_x  pos_y spell0    spell1  \\\n",
       "0        Darius  SOLO  TOP  Boss 0f This Gym  14180  14271  Flash  Teleport   \n",
       "1        Darius  SOLO  TOP  Boss 0f This Gym   6767  11479  Flash  Teleport   \n",
       "2        Darius  SOLO  TOP  Boss 0f This Gym   2170  12608  Flash  Teleport   \n",
       "3        Darius  SOLO  TOP  Boss 0f This Gym   1996  12305  Flash  Teleport   \n",
       "4        Darius  SOLO  TOP  Boss 0f This Gym   7570  13600  Flash  Teleport   \n",
       "\n",
       "       item0          item1             item2          item3  \\\n",
       "0  Thornmail  Stridebreaker  Plated Steelcaps  Sterak's Gage   \n",
       "1  Thornmail  Stridebreaker  Plated Steelcaps  Sterak's Gage   \n",
       "2  Thornmail  Stridebreaker  Plated Steelcaps  Sterak's Gage   \n",
       "3  Thornmail  Stridebreaker  Plated Steelcaps  Sterak's Gage   \n",
       "4  Thornmail  Stridebreaker  Plated Steelcaps  Sterak's Gage   \n",
       "\n",
       "              item4                  item5  support_flag  \n",
       "0  Dead Man's Plate  Caulfield's Warhammer         False  \n",
       "1  Dead Man's Plate  Caulfield's Warhammer         False  \n",
       "2  Dead Man's Plate  Caulfield's Warhammer         False  \n",
       "3  Dead Man's Plate  Caulfield's Warhammer         False  \n",
       "4  Dead Man's Plate  Caulfield's Warhammer         False  "
      ],
      "text/html": "<div>\n<style scoped>\n    .dataframe tbody tr th:only-of-type {\n        vertical-align: middle;\n    }\n\n    .dataframe tbody tr th {\n        vertical-align: top;\n    }\n\n    .dataframe thead th {\n        text-align: right;\n    }\n</style>\n<table border=\"1\" class=\"dataframe\">\n  <thead>\n    <tr style=\"text-align: right;\">\n      <th></th>\n      <th>minute</th>\n      <th>participantId</th>\n      <th>totalGold</th>\n      <th>level</th>\n      <th>xp</th>\n      <th>minionsKilled</th>\n      <th>jungleMinionsKilled</th>\n      <th>gameId</th>\n      <th>queue</th>\n      <th>teamId</th>\n      <th>win</th>\n      <th>champion_name</th>\n      <th>role</th>\n      <th>lane</th>\n      <th>summonerName</th>\n      <th>pos_x</th>\n      <th>pos_y</th>\n      <th>spell0</th>\n      <th>spell1</th>\n      <th>item0</th>\n      <th>item1</th>\n      <th>item2</th>\n      <th>item3</th>\n      <th>item4</th>\n      <th>item5</th>\n      <th>support_flag</th>\n    </tr>\n  </thead>\n  <tbody>\n    <tr>\n      <th>0</th>\n      <td>0</td>\n      <td>7</td>\n      <td>500</td>\n      <td>1</td>\n      <td>0</td>\n      <td>0</td>\n      <td>0</td>\n      <td>3849016581</td>\n      <td>5v5 Draft Pick games</td>\n      <td>Red</td>\n      <td>0</td>\n      <td>Darius</td>\n      <td>SOLO</td>\n      <td>TOP</td>\n      <td>Boss 0f This Gym</td>\n      <td>14180</td>\n      <td>14271</td>\n      <td>Flash</td>\n      <td>Teleport</td>\n      <td>Thornmail</td>\n      <td>Stridebreaker</td>\n      <td>Plated Steelcaps</td>\n      <td>Sterak's Gage</td>\n      <td>Dead Man's Plate</td>\n      <td>Caulfield's Warhammer</td>\n      <td>False</td>\n    </tr>\n    <tr>\n      <th>1</th>\n      <td>1</td>\n      <td>7</td>\n      <td>500</td>\n      <td>1</td>\n      <td>0</td>\n      <td>0</td>\n      <td>0</td>\n      <td>3849016581</td>\n      <td>5v5 Draft Pick games</td>\n      <td>Red</td>\n      <td>0</td>\n      <td>Darius</td>\n      <td>SOLO</td>\n      <td>TOP</td>\n      <td>Boss 0f This Gym</td>\n      <td>6767</td>\n      <td>11479</td>\n      <td>Flash</td>\n      <td>Teleport</td>\n      <td>Thornmail</td>\n      <td>Stridebreaker</td>\n      <td>Plated Steelcaps</td>\n      <td>Sterak's Gage</td>\n      <td>Dead Man's Plate</td>\n      <td>Caulfield's Warhammer</td>\n      <td>False</td>\n    </tr>\n    <tr>\n      <th>2</th>\n      <td>2</td>\n      <td>7</td>\n      <td>584</td>\n      <td>1</td>\n      <td>181</td>\n      <td>3</td>\n      <td>0</td>\n      <td>3849016581</td>\n      <td>5v5 Draft Pick games</td>\n      <td>Red</td>\n      <td>0</td>\n      <td>Darius</td>\n      <td>SOLO</td>\n      <td>TOP</td>\n      <td>Boss 0f This Gym</td>\n      <td>2170</td>\n      <td>12608</td>\n      <td>Flash</td>\n      <td>Teleport</td>\n      <td>Thornmail</td>\n      <td>Stridebreaker</td>\n      <td>Plated Steelcaps</td>\n      <td>Sterak's Gage</td>\n      <td>Dead Man's Plate</td>\n      <td>Caulfield's Warhammer</td>\n      <td>False</td>\n    </tr>\n    <tr>\n      <th>3</th>\n      <td>3</td>\n      <td>7</td>\n      <td>839</td>\n      <td>3</td>\n      <td>661</td>\n      <td>11</td>\n      <td>0</td>\n      <td>3849016581</td>\n      <td>5v5 Draft Pick games</td>\n      <td>Red</td>\n      <td>0</td>\n      <td>Darius</td>\n      <td>SOLO</td>\n      <td>TOP</td>\n      <td>Boss 0f This Gym</td>\n      <td>1996</td>\n      <td>12305</td>\n      <td>Flash</td>\n      <td>Teleport</td>\n      <td>Thornmail</td>\n      <td>Stridebreaker</td>\n      <td>Plated Steelcaps</td>\n      <td>Sterak's Gage</td>\n      <td>Dead Man's Plate</td>\n      <td>Caulfield's Warhammer</td>\n      <td>False</td>\n    </tr>\n    <tr>\n      <th>4</th>\n      <td>4</td>\n      <td>7</td>\n      <td>1106</td>\n      <td>3</td>\n      <td>1054</td>\n      <td>17</td>\n      <td>0</td>\n      <td>3849016581</td>\n      <td>5v5 Draft Pick games</td>\n      <td>Red</td>\n      <td>0</td>\n      <td>Darius</td>\n      <td>SOLO</td>\n      <td>TOP</td>\n      <td>Boss 0f This Gym</td>\n      <td>7570</td>\n      <td>13600</td>\n      <td>Flash</td>\n      <td>Teleport</td>\n      <td>Thornmail</td>\n      <td>Stridebreaker</td>\n      <td>Plated Steelcaps</td>\n      <td>Sterak's Gage</td>\n      <td>Dead Man's Plate</td>\n      <td>Caulfield's Warhammer</td>\n      <td>False</td>\n    </tr>\n  </tbody>\n</table>\n</div>"
     },
     "metadata": {},
     "execution_count": 36
    }
   ],
   "source": [
    "# Classify the Support by item!\n",
    "def support_by_item(df):\n",
    "      #prep_q2 = \"SELECT distinct champion_name, gameId, item0, item1, item2, item3, item4, item5 FROM df_soup where queue not in (\\\"5v5 ARAM games\\\", \\\"URF games\\\")\"\n",
    "      #prep2 = psql.sqldf(prep_q2, locals())\n",
    "\n",
    "      supp_items=[ 'Frostfang','Shard of True Ice',  'Steel Shoulderguards',  'Runesteel Spaulders',  'Pauldrons of Whiterock',  'Relic Shield',\n",
    "        \"Targon's Buckler\", 'Bulwark of the Mountain',  'Spectral Sickle', 'Harrowing Crescent', 'Black Mist Scythe']\n",
    "      #should only need to check 1 row per champion / game, so let's filter on only 1 minute\n",
    "      df2=df[df['minute'].isin([1])].copy()\n",
    "      df2['all_items'] = df2.item0.map(str) + df2.item1.map(str) + df2.item2.map(str) + df2.item3.map(str) + df2.item4.map(str) + df2.item5.map(str) \n",
    "\n",
    "      support_flag=[]\n",
    "      support=False\n",
    "      for j in range(len(df2)):\n",
    "          for si in supp_items:\n",
    "              if si in df2.iloc[j]['all_items']:\n",
    "                  support=True\n",
    "          support_flag.append(support)\n",
    "          support=False\n",
    "      df2['support_flag']=support_flag\n",
    "      \n",
    "      #merge with original df, so that we just return the OG + the new flag\n",
    "      df3=df.merge(df2[['champion_name','gameId','support_flag']],on=['champion_name','gameId'])\n",
    "      return df3\n",
    "      \n",
    "beg=time.perf_counter()\n",
    "ww=support_by_item(df_soup)\n",
    "end=time.perf_counter()\n",
    "runtime=end-beg\n",
    "print(int(runtime/60), \" minutes and \", runtime%60, \"seconds. \")\n",
    "ww.head(5)"
   ]
  },
  {
   "cell_type": "code",
   "execution_count": 37,
   "metadata": {},
   "outputs": [
    {
     "output_type": "stream",
     "name": "stdout",
     "text": [
      "0  minutes and  3.8904918000007456 seconds. \n"
     ]
    },
    {
     "output_type": "execute_result",
     "data": {
      "text/plain": [
       "   minute  participantId  totalGold  level    xp  minionsKilled  \\\n",
       "0       0              7        500      1     0              0   \n",
       "1       1              7        500      1     0              0   \n",
       "2       2              7        584      1   181              3   \n",
       "3       3              7        839      3   661             11   \n",
       "4       4              7       1106      3  1054             17   \n",
       "\n",
       "   jungleMinionsKilled      gameId                 queue teamId  win  \\\n",
       "0                    0  3849016581  5v5 Draft Pick games    Red    0   \n",
       "1                    0  3849016581  5v5 Draft Pick games    Red    0   \n",
       "2                    0  3849016581  5v5 Draft Pick games    Red    0   \n",
       "3                    0  3849016581  5v5 Draft Pick games    Red    0   \n",
       "4                    0  3849016581  5v5 Draft Pick games    Red    0   \n",
       "\n",
       "  champion_name  role lane      summonerName  pos_x  pos_y spell0    spell1  \\\n",
       "0        Darius  SOLO  TOP  Boss 0f This Gym  14180  14271  Flash  Teleport   \n",
       "1        Darius  SOLO  TOP  Boss 0f This Gym   6767  11479  Flash  Teleport   \n",
       "2        Darius  SOLO  TOP  Boss 0f This Gym   2170  12608  Flash  Teleport   \n",
       "3        Darius  SOLO  TOP  Boss 0f This Gym   1996  12305  Flash  Teleport   \n",
       "4        Darius  SOLO  TOP  Boss 0f This Gym   7570  13600  Flash  Teleport   \n",
       "\n",
       "       item0          item1             item2          item3  \\\n",
       "0  Thornmail  Stridebreaker  Plated Steelcaps  Sterak's Gage   \n",
       "1  Thornmail  Stridebreaker  Plated Steelcaps  Sterak's Gage   \n",
       "2  Thornmail  Stridebreaker  Plated Steelcaps  Sterak's Gage   \n",
       "3  Thornmail  Stridebreaker  Plated Steelcaps  Sterak's Gage   \n",
       "4  Thornmail  Stridebreaker  Plated Steelcaps  Sterak's Gage   \n",
       "\n",
       "              item4                  item5  jungle_flag  \n",
       "0  Dead Man's Plate  Caulfield's Warhammer        False  \n",
       "1  Dead Man's Plate  Caulfield's Warhammer        False  \n",
       "2  Dead Man's Plate  Caulfield's Warhammer        False  \n",
       "3  Dead Man's Plate  Caulfield's Warhammer        False  \n",
       "4  Dead Man's Plate  Caulfield's Warhammer        False  "
      ],
      "text/html": "<div>\n<style scoped>\n    .dataframe tbody tr th:only-of-type {\n        vertical-align: middle;\n    }\n\n    .dataframe tbody tr th {\n        vertical-align: top;\n    }\n\n    .dataframe thead th {\n        text-align: right;\n    }\n</style>\n<table border=\"1\" class=\"dataframe\">\n  <thead>\n    <tr style=\"text-align: right;\">\n      <th></th>\n      <th>minute</th>\n      <th>participantId</th>\n      <th>totalGold</th>\n      <th>level</th>\n      <th>xp</th>\n      <th>minionsKilled</th>\n      <th>jungleMinionsKilled</th>\n      <th>gameId</th>\n      <th>queue</th>\n      <th>teamId</th>\n      <th>win</th>\n      <th>champion_name</th>\n      <th>role</th>\n      <th>lane</th>\n      <th>summonerName</th>\n      <th>pos_x</th>\n      <th>pos_y</th>\n      <th>spell0</th>\n      <th>spell1</th>\n      <th>item0</th>\n      <th>item1</th>\n      <th>item2</th>\n      <th>item3</th>\n      <th>item4</th>\n      <th>item5</th>\n      <th>jungle_flag</th>\n    </tr>\n  </thead>\n  <tbody>\n    <tr>\n      <th>0</th>\n      <td>0</td>\n      <td>7</td>\n      <td>500</td>\n      <td>1</td>\n      <td>0</td>\n      <td>0</td>\n      <td>0</td>\n      <td>3849016581</td>\n      <td>5v5 Draft Pick games</td>\n      <td>Red</td>\n      <td>0</td>\n      <td>Darius</td>\n      <td>SOLO</td>\n      <td>TOP</td>\n      <td>Boss 0f This Gym</td>\n      <td>14180</td>\n      <td>14271</td>\n      <td>Flash</td>\n      <td>Teleport</td>\n      <td>Thornmail</td>\n      <td>Stridebreaker</td>\n      <td>Plated Steelcaps</td>\n      <td>Sterak's Gage</td>\n      <td>Dead Man's Plate</td>\n      <td>Caulfield's Warhammer</td>\n      <td>False</td>\n    </tr>\n    <tr>\n      <th>1</th>\n      <td>1</td>\n      <td>7</td>\n      <td>500</td>\n      <td>1</td>\n      <td>0</td>\n      <td>0</td>\n      <td>0</td>\n      <td>3849016581</td>\n      <td>5v5 Draft Pick games</td>\n      <td>Red</td>\n      <td>0</td>\n      <td>Darius</td>\n      <td>SOLO</td>\n      <td>TOP</td>\n      <td>Boss 0f This Gym</td>\n      <td>6767</td>\n      <td>11479</td>\n      <td>Flash</td>\n      <td>Teleport</td>\n      <td>Thornmail</td>\n      <td>Stridebreaker</td>\n      <td>Plated Steelcaps</td>\n      <td>Sterak's Gage</td>\n      <td>Dead Man's Plate</td>\n      <td>Caulfield's Warhammer</td>\n      <td>False</td>\n    </tr>\n    <tr>\n      <th>2</th>\n      <td>2</td>\n      <td>7</td>\n      <td>584</td>\n      <td>1</td>\n      <td>181</td>\n      <td>3</td>\n      <td>0</td>\n      <td>3849016581</td>\n      <td>5v5 Draft Pick games</td>\n      <td>Red</td>\n      <td>0</td>\n      <td>Darius</td>\n      <td>SOLO</td>\n      <td>TOP</td>\n      <td>Boss 0f This Gym</td>\n      <td>2170</td>\n      <td>12608</td>\n      <td>Flash</td>\n      <td>Teleport</td>\n      <td>Thornmail</td>\n      <td>Stridebreaker</td>\n      <td>Plated Steelcaps</td>\n      <td>Sterak's Gage</td>\n      <td>Dead Man's Plate</td>\n      <td>Caulfield's Warhammer</td>\n      <td>False</td>\n    </tr>\n    <tr>\n      <th>3</th>\n      <td>3</td>\n      <td>7</td>\n      <td>839</td>\n      <td>3</td>\n      <td>661</td>\n      <td>11</td>\n      <td>0</td>\n      <td>3849016581</td>\n      <td>5v5 Draft Pick games</td>\n      <td>Red</td>\n      <td>0</td>\n      <td>Darius</td>\n      <td>SOLO</td>\n      <td>TOP</td>\n      <td>Boss 0f This Gym</td>\n      <td>1996</td>\n      <td>12305</td>\n      <td>Flash</td>\n      <td>Teleport</td>\n      <td>Thornmail</td>\n      <td>Stridebreaker</td>\n      <td>Plated Steelcaps</td>\n      <td>Sterak's Gage</td>\n      <td>Dead Man's Plate</td>\n      <td>Caulfield's Warhammer</td>\n      <td>False</td>\n    </tr>\n    <tr>\n      <th>4</th>\n      <td>4</td>\n      <td>7</td>\n      <td>1106</td>\n      <td>3</td>\n      <td>1054</td>\n      <td>17</td>\n      <td>0</td>\n      <td>3849016581</td>\n      <td>5v5 Draft Pick games</td>\n      <td>Red</td>\n      <td>0</td>\n      <td>Darius</td>\n      <td>SOLO</td>\n      <td>TOP</td>\n      <td>Boss 0f This Gym</td>\n      <td>7570</td>\n      <td>13600</td>\n      <td>Flash</td>\n      <td>Teleport</td>\n      <td>Thornmail</td>\n      <td>Stridebreaker</td>\n      <td>Plated Steelcaps</td>\n      <td>Sterak's Gage</td>\n      <td>Dead Man's Plate</td>\n      <td>Caulfield's Warhammer</td>\n      <td>False</td>\n    </tr>\n  </tbody>\n</table>\n</div>"
     },
     "metadata": {},
     "execution_count": 37
    }
   ],
   "source": [
    "# Classify the Jungler by Smite!\n",
    "def jungler_by_smite(df):\n",
    "\n",
    "        #prep_q3 = \"SELECT distinct champion_name, gameId, spell0, spell1 FROM df_soup where queue not in (\\\"5v5 ARAM games\\\", \\\"URF games\\\")\"\n",
    "        #prep3 = psql.sqldf(prep_q3, locals())\n",
    "        #prep3\n",
    "        # \"Smite\"\n",
    "\n",
    "        df['all_spells'] = df.spell0.map(str) + df.spell1.map(str)\n",
    "\n",
    "        jungle_flag=[]\n",
    "        jungle=False\n",
    "        for j in range(len(df)):\n",
    "            \n",
    "            if \"Smite\" in df.iloc[j]['all_spells']:\n",
    "                jungle=True\n",
    "            jungle_flag.append(jungle)\n",
    "            jungle=False\n",
    "        df['jungle_flag']=jungle_flag\n",
    "        df.drop(['all_spells'], axis=1,inplace=True)\n",
    "        return df\n",
    "\n",
    "beg=time.perf_counter()\n",
    "www=jungler_by_smite(df_soup)\n",
    "end=time.perf_counter()\n",
    "runtime=end-beg\n",
    "print(int(runtime/60), \" minutes and \", runtime%60, \"seconds. \")\n",
    "www.head(5)"
   ]
  },
  {
   "cell_type": "code",
   "execution_count": 40,
   "metadata": {},
   "outputs": [
    {
     "output_type": "stream",
     "name": "stdout",
     "text": [
      "0  minutes and  21.11388790000092 seconds. \n"
     ]
    },
    {
     "output_type": "execute_result",
     "data": {
      "text/plain": [
       "   minute  participantId  totalGold  level    xp  minionsKilled  \\\n",
       "0       0              7        500      1     0              0   \n",
       "1       1              7        500      1     0              0   \n",
       "2       2              7        584      1   181              3   \n",
       "3       3              7        839      3   661             11   \n",
       "4       4              7       1106      3  1054             17   \n",
       "\n",
       "   jungleMinionsKilled      gameId                 queue teamId  win  \\\n",
       "0                    0  3849016581  5v5 Draft Pick games    Red    0   \n",
       "1                    0  3849016581  5v5 Draft Pick games    Red    0   \n",
       "2                    0  3849016581  5v5 Draft Pick games    Red    0   \n",
       "3                    0  3849016581  5v5 Draft Pick games    Red    0   \n",
       "4                    0  3849016581  5v5 Draft Pick games    Red    0   \n",
       "\n",
       "  champion_name  role lane      summonerName  pos_x  pos_y spell0    spell1  \\\n",
       "0        Darius  SOLO  TOP  Boss 0f This Gym  14180  14271  Flash  Teleport   \n",
       "1        Darius  SOLO  TOP  Boss 0f This Gym   6767  11479  Flash  Teleport   \n",
       "2        Darius  SOLO  TOP  Boss 0f This Gym   2170  12608  Flash  Teleport   \n",
       "3        Darius  SOLO  TOP  Boss 0f This Gym   1996  12305  Flash  Teleport   \n",
       "4        Darius  SOLO  TOP  Boss 0f This Gym   7570  13600  Flash  Teleport   \n",
       "\n",
       "       item0          item1             item2          item3  \\\n",
       "0  Thornmail  Stridebreaker  Plated Steelcaps  Sterak's Gage   \n",
       "1  Thornmail  Stridebreaker  Plated Steelcaps  Sterak's Gage   \n",
       "2  Thornmail  Stridebreaker  Plated Steelcaps  Sterak's Gage   \n",
       "3  Thornmail  Stridebreaker  Plated Steelcaps  Sterak's Gage   \n",
       "4  Thornmail  Stridebreaker  Plated Steelcaps  Sterak's Gage   \n",
       "\n",
       "              item4                  item5  jungle_flag pos_lane  \\\n",
       "0  Dead Man's Plate  Caulfield's Warhammer        False      TOP   \n",
       "1  Dead Man's Plate  Caulfield's Warhammer        False      TOP   \n",
       "2  Dead Man's Plate  Caulfield's Warhammer        False      TOP   \n",
       "3  Dead Man's Plate  Caulfield's Warhammer        False      TOP   \n",
       "4  Dead Man's Plate  Caulfield's Warhammer        False      TOP   \n",
       "\n",
       "   support_flag new_lane new_role  \n",
       "0         False      TOP     SOLO  \n",
       "1         False      TOP     SOLO  \n",
       "2         False      TOP     SOLO  \n",
       "3         False      TOP     SOLO  \n",
       "4         False      TOP     SOLO  "
      ],
      "text/html": "<div>\n<style scoped>\n    .dataframe tbody tr th:only-of-type {\n        vertical-align: middle;\n    }\n\n    .dataframe tbody tr th {\n        vertical-align: top;\n    }\n\n    .dataframe thead th {\n        text-align: right;\n    }\n</style>\n<table border=\"1\" class=\"dataframe\">\n  <thead>\n    <tr style=\"text-align: right;\">\n      <th></th>\n      <th>minute</th>\n      <th>participantId</th>\n      <th>totalGold</th>\n      <th>level</th>\n      <th>xp</th>\n      <th>minionsKilled</th>\n      <th>jungleMinionsKilled</th>\n      <th>gameId</th>\n      <th>queue</th>\n      <th>teamId</th>\n      <th>win</th>\n      <th>champion_name</th>\n      <th>role</th>\n      <th>lane</th>\n      <th>summonerName</th>\n      <th>pos_x</th>\n      <th>pos_y</th>\n      <th>spell0</th>\n      <th>spell1</th>\n      <th>item0</th>\n      <th>item1</th>\n      <th>item2</th>\n      <th>item3</th>\n      <th>item4</th>\n      <th>item5</th>\n      <th>jungle_flag</th>\n      <th>pos_lane</th>\n      <th>support_flag</th>\n      <th>new_lane</th>\n      <th>new_role</th>\n    </tr>\n  </thead>\n  <tbody>\n    <tr>\n      <th>0</th>\n      <td>0</td>\n      <td>7</td>\n      <td>500</td>\n      <td>1</td>\n      <td>0</td>\n      <td>0</td>\n      <td>0</td>\n      <td>3849016581</td>\n      <td>5v5 Draft Pick games</td>\n      <td>Red</td>\n      <td>0</td>\n      <td>Darius</td>\n      <td>SOLO</td>\n      <td>TOP</td>\n      <td>Boss 0f This Gym</td>\n      <td>14180</td>\n      <td>14271</td>\n      <td>Flash</td>\n      <td>Teleport</td>\n      <td>Thornmail</td>\n      <td>Stridebreaker</td>\n      <td>Plated Steelcaps</td>\n      <td>Sterak's Gage</td>\n      <td>Dead Man's Plate</td>\n      <td>Caulfield's Warhammer</td>\n      <td>False</td>\n      <td>TOP</td>\n      <td>False</td>\n      <td>TOP</td>\n      <td>SOLO</td>\n    </tr>\n    <tr>\n      <th>1</th>\n      <td>1</td>\n      <td>7</td>\n      <td>500</td>\n      <td>1</td>\n      <td>0</td>\n      <td>0</td>\n      <td>0</td>\n      <td>3849016581</td>\n      <td>5v5 Draft Pick games</td>\n      <td>Red</td>\n      <td>0</td>\n      <td>Darius</td>\n      <td>SOLO</td>\n      <td>TOP</td>\n      <td>Boss 0f This Gym</td>\n      <td>6767</td>\n      <td>11479</td>\n      <td>Flash</td>\n      <td>Teleport</td>\n      <td>Thornmail</td>\n      <td>Stridebreaker</td>\n      <td>Plated Steelcaps</td>\n      <td>Sterak's Gage</td>\n      <td>Dead Man's Plate</td>\n      <td>Caulfield's Warhammer</td>\n      <td>False</td>\n      <td>TOP</td>\n      <td>False</td>\n      <td>TOP</td>\n      <td>SOLO</td>\n    </tr>\n    <tr>\n      <th>2</th>\n      <td>2</td>\n      <td>7</td>\n      <td>584</td>\n      <td>1</td>\n      <td>181</td>\n      <td>3</td>\n      <td>0</td>\n      <td>3849016581</td>\n      <td>5v5 Draft Pick games</td>\n      <td>Red</td>\n      <td>0</td>\n      <td>Darius</td>\n      <td>SOLO</td>\n      <td>TOP</td>\n      <td>Boss 0f This Gym</td>\n      <td>2170</td>\n      <td>12608</td>\n      <td>Flash</td>\n      <td>Teleport</td>\n      <td>Thornmail</td>\n      <td>Stridebreaker</td>\n      <td>Plated Steelcaps</td>\n      <td>Sterak's Gage</td>\n      <td>Dead Man's Plate</td>\n      <td>Caulfield's Warhammer</td>\n      <td>False</td>\n      <td>TOP</td>\n      <td>False</td>\n      <td>TOP</td>\n      <td>SOLO</td>\n    </tr>\n    <tr>\n      <th>3</th>\n      <td>3</td>\n      <td>7</td>\n      <td>839</td>\n      <td>3</td>\n      <td>661</td>\n      <td>11</td>\n      <td>0</td>\n      <td>3849016581</td>\n      <td>5v5 Draft Pick games</td>\n      <td>Red</td>\n      <td>0</td>\n      <td>Darius</td>\n      <td>SOLO</td>\n      <td>TOP</td>\n      <td>Boss 0f This Gym</td>\n      <td>1996</td>\n      <td>12305</td>\n      <td>Flash</td>\n      <td>Teleport</td>\n      <td>Thornmail</td>\n      <td>Stridebreaker</td>\n      <td>Plated Steelcaps</td>\n      <td>Sterak's Gage</td>\n      <td>Dead Man's Plate</td>\n      <td>Caulfield's Warhammer</td>\n      <td>False</td>\n      <td>TOP</td>\n      <td>False</td>\n      <td>TOP</td>\n      <td>SOLO</td>\n    </tr>\n    <tr>\n      <th>4</th>\n      <td>4</td>\n      <td>7</td>\n      <td>1106</td>\n      <td>3</td>\n      <td>1054</td>\n      <td>17</td>\n      <td>0</td>\n      <td>3849016581</td>\n      <td>5v5 Draft Pick games</td>\n      <td>Red</td>\n      <td>0</td>\n      <td>Darius</td>\n      <td>SOLO</td>\n      <td>TOP</td>\n      <td>Boss 0f This Gym</td>\n      <td>7570</td>\n      <td>13600</td>\n      <td>Flash</td>\n      <td>Teleport</td>\n      <td>Thornmail</td>\n      <td>Stridebreaker</td>\n      <td>Plated Steelcaps</td>\n      <td>Sterak's Gage</td>\n      <td>Dead Man's Plate</td>\n      <td>Caulfield's Warhammer</td>\n      <td>False</td>\n      <td>TOP</td>\n      <td>False</td>\n      <td>TOP</td>\n      <td>SOLO</td>\n    </tr>\n  </tbody>\n</table>\n</div>"
     },
     "metadata": {},
     "execution_count": 40
    }
   ],
   "source": [
    "def new_lane_classification(df,mins=[4,5,6,7,8],top_anchor = [0,14600], mid_anchor = [7300,7300], bot_anchor = [14600,0]):\n",
    "    df_pos=lane_by_position(df, mins, top_anchor, mid_anchor, bot_anchor)\n",
    "    df_supp=support_by_item(df_pos)\n",
    "    df_jungle=jungler_by_smite(df_supp)\n",
    "    new_lane=[]\n",
    "    new_role=[]\n",
    "    for j in range(len(df_jungle)):\n",
    "        lane=df_jungle.iloc[j]['pos_lane']\n",
    "        role=df_jungle.iloc[j]['role']\n",
    "        if df_jungle.iloc[j]['support_flag'] == True:\n",
    "            lane = \"BOTTOM\"\n",
    "            role = \"DUO_SUPPORT\"\n",
    "        if df_jungle.iloc[j]['jungle_flag'] == True:\n",
    "            lane = \"JUNGLE\"\n",
    "            role=\"SOLO\"\n",
    "        if (lane == \"BOTTOM\" and role != \"DUO_SUPPORT\"):\n",
    "            role = \"DUO_CARRY\"\n",
    "        new_lane.append(lane)\n",
    "        new_role.append(role)\n",
    "    df_jungle['new_lane']=new_lane\n",
    "    df_jungle['new_role']=new_role\n",
    "    return df_jungle\n",
    "\n",
    "beg=time.perf_counter()\n",
    "wwww=new_lane_classification(df_soup)\n",
    "end=time.perf_counter()\n",
    "runtime=end-beg\n",
    "print(int(runtime/60), \" minutes and \", runtime%60, \"seconds. \")\n",
    "wwww.head(5)"
   ]
  },
  {
   "cell_type": "code",
   "execution_count": 43,
   "metadata": {},
   "outputs": [],
   "source": [
    "sv=wwww[['gameId','minute','champion_name','summonerName','totalGold','role','lane','new_role','new_lane']]\n",
    "sv=sv.to_csv(\"New_Lane_data.csv\",index=False)"
   ]
  },
  {
   "cell_type": "code",
   "execution_count": null,
   "metadata": {},
   "outputs": [],
   "source": []
  }
 ]
}