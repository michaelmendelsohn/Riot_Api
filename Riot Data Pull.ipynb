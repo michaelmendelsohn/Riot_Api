{
 "metadata": {
  "language_info": {
   "codemirror_mode": {
    "name": "ipython",
    "version": 3
   },
   "file_extension": ".py",
   "mimetype": "text/x-python",
   "name": "python",
   "nbconvert_exporter": "python",
   "pygments_lexer": "ipython3",
   "version": "3.9.2-final"
  },
  "orig_nbformat": 2,
  "kernelspec": {
   "name": "python3",
   "display_name": "Python 3.9.2 64-bit",
   "metadata": {
    "interpreter": {
     "hash": "3cb19a7de07f7df9a1ac65bede0c112e2ce18daa0dd50491eae5f12b20c54ea1"
    }
   }
  }
 },
 "nbformat": 4,
 "nbformat_minor": 2,
 "cells": [
  {
   "cell_type": "code",
   "execution_count": null,
   "metadata": {},
   "outputs": [],
   "source": []
  },
  {
   "cell_type": "code",
   "execution_count": 139,
   "metadata": {
    "tags": []
   },
   "outputs": [
    {
     "output_type": "stream",
     "name": "stdout",
     "text": [
      "dict_keys(['participantId', 'teamId', 'championId', 'spell1Id', 'spell2Id', 'stats', 'timeline'])\ndict_keys(['participantId', 'teamId', 'championId', 'spell1Id', 'spell2Id', 'stats', 'timeline'])\ndict_keys(['participantId', 'teamId', 'championId', 'spell1Id', 'spell2Id', 'stats', 'timeline'])\ndict_keys(['participantId', 'teamId', 'championId', 'spell1Id', 'spell2Id', 'stats', 'timeline'])\ndict_keys(['participantId', 'teamId', 'championId', 'spell1Id', 'spell2Id', 'stats', 'timeline'])\ndict_keys(['participantId', 'teamId', 'championId', 'spell1Id', 'spell2Id', 'stats', 'timeline'])\ndict_keys(['participantId', 'teamId', 'championId', 'spell1Id', 'spell2Id', 'stats', 'timeline'])\ndict_keys(['participantId', 'teamId', 'championId', 'spell1Id', 'spell2Id', 'stats', 'timeline'])\ndict_keys(['participantId', 'teamId', 'championId', 'spell1Id', 'spell2Id', 'stats', 'timeline'])\ndict_keys(['participantId', 'teamId', 'championId', 'spell1Id', 'spell2Id', 'stats', 'timeline'])\n"
     ]
    },
    {
     "output_type": "execute_result",
     "data": {
      "text/plain": [
       "   participantId  champion  spell1  spell2    win  kills  deaths  assists  \\\n",
       "0              1        11      11       4  False      1       7        0   \n",
       "1              2       143       3       4  False      2       4        5   \n",
       "2              3       202       7       4  False      4       4        4   \n",
       "3              4       245      14       4  False      1       5        5   \n",
       "4              5        98       4      12  False      1       7        6   \n",
       "5              6       102      14      12   True      9       1       11   \n",
       "6              7       113      11       4   True      3       2       13   \n",
       "7              8         1      14       4   True      6       2       16   \n",
       "8              9       412       4      14   True      0       4       22   \n",
       "9             10       222       7       4   True      9       0        9   \n",
       "\n",
       "   totalDamageDealt  goldEarned  champLevel  totalMinionsKilled         role  \\\n",
       "0            195827       10904          15                  63         NONE   \n",
       "1             69874        8901          14                  39  DUO_SUPPORT   \n",
       "2            152635       12338          15                 230    DUO_CARRY   \n",
       "3            121546       10041          15                 182          DUO   \n",
       "4             67267        9024          15                 123          DUO   \n",
       "5            210602       15499          17                 239         NONE   \n",
       "6            140214       10716          14                  16         NONE   \n",
       "7            117642       12518          16                 190         SOLO   \n",
       "8             18710        8211          13                  35  DUO_SUPPORT   \n",
       "9            167443       14582          15                 223    DUO_CARRY   \n",
       "\n",
       "     lane  \n",
       "0  JUNGLE  \n",
       "1  BOTTOM  \n",
       "2  BOTTOM  \n",
       "3     TOP  \n",
       "4     TOP  \n",
       "5  JUNGLE  \n",
       "6  JUNGLE  \n",
       "7  MIDDLE  \n",
       "8  BOTTOM  \n",
       "9  BOTTOM  "
      ],
      "text/html": "<div>\n<style scoped>\n    .dataframe tbody tr th:only-of-type {\n        vertical-align: middle;\n    }\n\n    .dataframe tbody tr th {\n        vertical-align: top;\n    }\n\n    .dataframe thead th {\n        text-align: right;\n    }\n</style>\n<table border=\"1\" class=\"dataframe\">\n  <thead>\n    <tr style=\"text-align: right;\">\n      <th></th>\n      <th>participantId</th>\n      <th>champion</th>\n      <th>spell1</th>\n      <th>spell2</th>\n      <th>win</th>\n      <th>kills</th>\n      <th>deaths</th>\n      <th>assists</th>\n      <th>totalDamageDealt</th>\n      <th>goldEarned</th>\n      <th>champLevel</th>\n      <th>totalMinionsKilled</th>\n      <th>role</th>\n      <th>lane</th>\n    </tr>\n  </thead>\n  <tbody>\n    <tr>\n      <th>0</th>\n      <td>1</td>\n      <td>11</td>\n      <td>11</td>\n      <td>4</td>\n      <td>False</td>\n      <td>1</td>\n      <td>7</td>\n      <td>0</td>\n      <td>195827</td>\n      <td>10904</td>\n      <td>15</td>\n      <td>63</td>\n      <td>NONE</td>\n      <td>JUNGLE</td>\n    </tr>\n    <tr>\n      <th>1</th>\n      <td>2</td>\n      <td>143</td>\n      <td>3</td>\n      <td>4</td>\n      <td>False</td>\n      <td>2</td>\n      <td>4</td>\n      <td>5</td>\n      <td>69874</td>\n      <td>8901</td>\n      <td>14</td>\n      <td>39</td>\n      <td>DUO_SUPPORT</td>\n      <td>BOTTOM</td>\n    </tr>\n    <tr>\n      <th>2</th>\n      <td>3</td>\n      <td>202</td>\n      <td>7</td>\n      <td>4</td>\n      <td>False</td>\n      <td>4</td>\n      <td>4</td>\n      <td>4</td>\n      <td>152635</td>\n      <td>12338</td>\n      <td>15</td>\n      <td>230</td>\n      <td>DUO_CARRY</td>\n      <td>BOTTOM</td>\n    </tr>\n    <tr>\n      <th>3</th>\n      <td>4</td>\n      <td>245</td>\n      <td>14</td>\n      <td>4</td>\n      <td>False</td>\n      <td>1</td>\n      <td>5</td>\n      <td>5</td>\n      <td>121546</td>\n      <td>10041</td>\n      <td>15</td>\n      <td>182</td>\n      <td>DUO</td>\n      <td>TOP</td>\n    </tr>\n    <tr>\n      <th>4</th>\n      <td>5</td>\n      <td>98</td>\n      <td>4</td>\n      <td>12</td>\n      <td>False</td>\n      <td>1</td>\n      <td>7</td>\n      <td>6</td>\n      <td>67267</td>\n      <td>9024</td>\n      <td>15</td>\n      <td>123</td>\n      <td>DUO</td>\n      <td>TOP</td>\n    </tr>\n    <tr>\n      <th>5</th>\n      <td>6</td>\n      <td>102</td>\n      <td>14</td>\n      <td>12</td>\n      <td>True</td>\n      <td>9</td>\n      <td>1</td>\n      <td>11</td>\n      <td>210602</td>\n      <td>15499</td>\n      <td>17</td>\n      <td>239</td>\n      <td>NONE</td>\n      <td>JUNGLE</td>\n    </tr>\n    <tr>\n      <th>6</th>\n      <td>7</td>\n      <td>113</td>\n      <td>11</td>\n      <td>4</td>\n      <td>True</td>\n      <td>3</td>\n      <td>2</td>\n      <td>13</td>\n      <td>140214</td>\n      <td>10716</td>\n      <td>14</td>\n      <td>16</td>\n      <td>NONE</td>\n      <td>JUNGLE</td>\n    </tr>\n    <tr>\n      <th>7</th>\n      <td>8</td>\n      <td>1</td>\n      <td>14</td>\n      <td>4</td>\n      <td>True</td>\n      <td>6</td>\n      <td>2</td>\n      <td>16</td>\n      <td>117642</td>\n      <td>12518</td>\n      <td>16</td>\n      <td>190</td>\n      <td>SOLO</td>\n      <td>MIDDLE</td>\n    </tr>\n    <tr>\n      <th>8</th>\n      <td>9</td>\n      <td>412</td>\n      <td>4</td>\n      <td>14</td>\n      <td>True</td>\n      <td>0</td>\n      <td>4</td>\n      <td>22</td>\n      <td>18710</td>\n      <td>8211</td>\n      <td>13</td>\n      <td>35</td>\n      <td>DUO_SUPPORT</td>\n      <td>BOTTOM</td>\n    </tr>\n    <tr>\n      <th>9</th>\n      <td>10</td>\n      <td>222</td>\n      <td>7</td>\n      <td>4</td>\n      <td>True</td>\n      <td>9</td>\n      <td>0</td>\n      <td>9</td>\n      <td>167443</td>\n      <td>14582</td>\n      <td>15</td>\n      <td>223</td>\n      <td>DUO_CARRY</td>\n      <td>BOTTOM</td>\n    </tr>\n  </tbody>\n</table>\n</div>"
     },
     "metadata": {},
     "execution_count": 139
    }
   ],
   "source": [
    "\n",
    "api_key='RGAPI-f8971a64-c2f9-4a01-a35d-c7b3ffb66446'\n",
    "\n",
    "from riotwatcher import LolWatcher, ApiError\n",
    "import pandas as pd\n",
    "\n",
    "# golbal variables\n",
    "\n",
    "watcher = LolWatcher(api_key)\n",
    "my_region = 'na1'\n",
    "\n",
    "me = watcher.summoner.by_name(my_region, 'Souporsecret')\n",
    "#print(me)\n",
    "\n",
    "my_ranked_stats = watcher.league.by_summoner(my_region, me['id'])\n",
    "#print(my_ranked_stats)\n",
    "\n",
    "\n",
    "my_matches = watcher.match.matchlist_by_account(my_region, me['accountId'])\n",
    "\n",
    "# fetch last match detail\n",
    "last_match = my_matches['matches'][0]\n",
    "match_detail = watcher.match.by_id(my_region, last_match['gameId'])\n",
    "participants = []\n",
    "for row in match_detail['participants']:\n",
    "    print(row.keys())\n",
    "    participants_row = {}\n",
    "    participants_row['participantId'] = row['participantId']\n",
    "    participants_row['champion'] = row['championId']\n",
    "    participants_row['spell1'] = row['spell1Id']\n",
    "    participants_row['spell2'] = row['spell2Id']\n",
    "    participants_row['win'] = row['stats']['win']\n",
    "    participants_row['kills'] = row['stats']['kills']\n",
    "    participants_row['deaths'] = row['stats']['deaths']\n",
    "    participants_row['assists'] = row['stats']['assists']\n",
    "    participants_row['totalDamageDealt'] = row['stats']['totalDamageDealt']\n",
    "    participants_row['goldEarned'] = row['stats']['goldEarned']\n",
    "    participants_row['champLevel'] = row['stats']['champLevel']\n",
    "    participants_row['totalMinionsKilled'] = row['stats']['totalMinionsKilled']\n",
    "\n",
    "    participants_row['role'] = row['timeline']['role']\n",
    "    participants_row['lane'] = row['timeline']['lane']\n",
    "    participants.append(participants_row)\n",
    "match_details_df = pd.DataFrame(participants)\n",
    "match_details_df2=match_details_df[['participantId','champion','role','lane']].copy()\n",
    "match_details_df\n"
   ]
  },
  {
   "cell_type": "code",
   "execution_count": 218,
   "metadata": {
    "tags": []
   },
   "outputs": [
    {
     "output_type": "execute_result",
     "data": {
      "text/plain": [
       "  participantId     summonerName\n",
       "0             1       Thanatos03\n",
       "1             2     SouporSecret\n",
       "2             3      AerialBlast\n",
       "3             4         IrishGuy\n",
       "4             5     Cadet Narnia\n",
       "5             6  SnuffaLuffaKins\n",
       "6             7   Tough Guy Nami\n",
       "7             8     six6six6six6\n",
       "8             9        fuyuxiang\n",
       "9            10       Madara 239"
      ],
      "text/html": "<div>\n<style scoped>\n    .dataframe tbody tr th:only-of-type {\n        vertical-align: middle;\n    }\n\n    .dataframe tbody tr th {\n        vertical-align: top;\n    }\n\n    .dataframe thead th {\n        text-align: right;\n    }\n</style>\n<table border=\"1\" class=\"dataframe\">\n  <thead>\n    <tr style=\"text-align: right;\">\n      <th></th>\n      <th>participantId</th>\n      <th>summonerName</th>\n    </tr>\n  </thead>\n  <tbody>\n    <tr>\n      <th>0</th>\n      <td>1</td>\n      <td>Thanatos03</td>\n    </tr>\n    <tr>\n      <th>1</th>\n      <td>2</td>\n      <td>SouporSecret</td>\n    </tr>\n    <tr>\n      <th>2</th>\n      <td>3</td>\n      <td>AerialBlast</td>\n    </tr>\n    <tr>\n      <th>3</th>\n      <td>4</td>\n      <td>IrishGuy</td>\n    </tr>\n    <tr>\n      <th>4</th>\n      <td>5</td>\n      <td>Cadet Narnia</td>\n    </tr>\n    <tr>\n      <th>5</th>\n      <td>6</td>\n      <td>SnuffaLuffaKins</td>\n    </tr>\n    <tr>\n      <th>6</th>\n      <td>7</td>\n      <td>Tough Guy Nami</td>\n    </tr>\n    <tr>\n      <th>7</th>\n      <td>8</td>\n      <td>six6six6six6</td>\n    </tr>\n    <tr>\n      <th>8</th>\n      <td>9</td>\n      <td>fuyuxiang</td>\n    </tr>\n    <tr>\n      <th>9</th>\n      <td>10</td>\n      <td>Madara 239</td>\n    </tr>\n  </tbody>\n</table>\n</div>"
     },
     "metadata": {},
     "execution_count": 218
    }
   ],
   "source": [
    "match_summoners = watcher.match.by_id(my_region, last_match['gameId'])\n",
    "#print(match_summoners)\n",
    "#dict_keys(['gameId', 'platformId', 'gameCreation', 'gameDuration', 'queueId', 'mapId', 'seasonId', 'gameVersion', 'gameMode', 'gameType', 'teams', 'participants', 'participantIdentities'])\n",
    "#print(match_summoners['participants'][1]['participantId'])\n",
    "sumnames_index=['participantId','summonerName']\n",
    "summmonersNamesDF=pd.DataFrame(columns=sumnames_index)\n",
    "for i in range(10):\n",
    "    x=[(match_summoners['participantIdentities'][i]['participantId']),\n",
    "                match_summoners['participantIdentities'][i]['player']['summonerName']]\n",
    "    sum_names_series = pd.Series(x, index = sumnames_index)\n",
    "    summmonersNamesDF=summmonersNamesDF.append(sum_names_series,ignore_index=\"True\")\n",
    "summmonersNamesDF\n"
   ]
  },
  {
   "cell_type": "code",
   "execution_count": 143,
   "metadata": {
    "tags": []
   },
   "outputs": [
    {
     "output_type": "execute_result",
     "data": {
      "text/plain": [
       "  minute participantId totalGold level xp minionsKilled jungleMinionsKilled\n",
       "0      0             5       500     1  0             0                   0\n",
       "1      0             1       500     1  0             0                   0\n",
       "2      0             4       500     1  0             0                   0\n",
       "3      0             3       500     1  0             0                   0\n",
       "4      0             2       500     1  0             0                   0"
      ],
      "text/html": "<div>\n<style scoped>\n    .dataframe tbody tr th:only-of-type {\n        vertical-align: middle;\n    }\n\n    .dataframe tbody tr th {\n        vertical-align: top;\n    }\n\n    .dataframe thead th {\n        text-align: right;\n    }\n</style>\n<table border=\"1\" class=\"dataframe\">\n  <thead>\n    <tr style=\"text-align: right;\">\n      <th></th>\n      <th>minute</th>\n      <th>participantId</th>\n      <th>totalGold</th>\n      <th>level</th>\n      <th>xp</th>\n      <th>minionsKilled</th>\n      <th>jungleMinionsKilled</th>\n    </tr>\n  </thead>\n  <tbody>\n    <tr>\n      <th>0</th>\n      <td>0</td>\n      <td>5</td>\n      <td>500</td>\n      <td>1</td>\n      <td>0</td>\n      <td>0</td>\n      <td>0</td>\n    </tr>\n    <tr>\n      <th>1</th>\n      <td>0</td>\n      <td>1</td>\n      <td>500</td>\n      <td>1</td>\n      <td>0</td>\n      <td>0</td>\n      <td>0</td>\n    </tr>\n    <tr>\n      <th>2</th>\n      <td>0</td>\n      <td>4</td>\n      <td>500</td>\n      <td>1</td>\n      <td>0</td>\n      <td>0</td>\n      <td>0</td>\n    </tr>\n    <tr>\n      <th>3</th>\n      <td>0</td>\n      <td>3</td>\n      <td>500</td>\n      <td>1</td>\n      <td>0</td>\n      <td>0</td>\n      <td>0</td>\n    </tr>\n    <tr>\n      <th>4</th>\n      <td>0</td>\n      <td>2</td>\n      <td>500</td>\n      <td>1</td>\n      <td>0</td>\n      <td>0</td>\n      <td>0</td>\n    </tr>\n  </tbody>\n</table>\n</div>"
     },
     "metadata": {},
     "execution_count": 143
    }
   ],
   "source": [
    "match_timeline = watcher.match.timeline_by_match(my_region, last_match['gameId'])\n",
    "\n",
    "l=len(match_timeline['frames'])\n",
    "data_fields=['participantId','totalGold','level','xp','minionsKilled','jungleMinionsKilled']\n",
    "golddf=pd.DataFrame(columns=['minute']+data_fields)\n",
    "\n",
    "for i in range(l): #loops thru minutes\n",
    "   \n",
    "    for j in match_timeline['frames'][i]['participantFrames']:#loops thru champions\n",
    "        champ_data=[i,  match_timeline['frames'][i]['participantFrames'][j][data_fields[0]],\n",
    "                        match_timeline['frames'][i]['participantFrames'][j][data_fields[1]],\n",
    "                        match_timeline['frames'][i]['participantFrames'][j][data_fields[2]],\n",
    "                        match_timeline['frames'][i]['participantFrames'][j][data_fields[3]],\n",
    "                        match_timeline['frames'][i]['participantFrames'][j][data_fields[4]],\n",
    "                        match_timeline['frames'][i]['participantFrames'][j][data_fields[5]]]\n",
    "       \n",
    "        champ_data_series = pd.Series(champ_data, index = golddf.columns)\n",
    "        #print(champ_data_series)\n",
    "        golddf=golddf.append(champ_data_series,ignore_index=\"True\")\n",
    "golddf.head(5)\n",
    "            "
   ]
  },
  {
   "cell_type": "code",
   "execution_count": 144,
   "metadata": {},
   "outputs": [],
   "source": [
    "#get champ mapping\n",
    "# check league's latest version\n",
    "latest = watcher.data_dragon.versions_for_region(my_region)['n']['champion']\n",
    "# Lets get some champions static information\n",
    "static_champ_list = watcher.data_dragon.champions(latest, False, 'en_US')\n",
    "\n",
    "champ_dict = {} \n",
    "static_champ_list['data']['Aatrox']['key']\n",
    "for champ in static_champ_list['data'].keys(): # iterates thru champ names\n",
    "   champ_dict[static_champ_list['data'][champ]['key']]=champ\n",
    "#print(champ_dict)"
   ]
  },
  {
   "cell_type": "code",
   "execution_count": 3,
   "metadata": {},
   "outputs": [
    {
     "output_type": "error",
     "ename": "NameError",
     "evalue": "name 'golddf' is not defined",
     "traceback": [
      "\u001b[1;31m---------------------------------------------------------------------------\u001b[0m",
      "\u001b[1;31mNameError\u001b[0m                                 Traceback (most recent call last)",
      "\u001b[1;32m<ipython-input-3-9c089f448dc3>\u001b[0m in \u001b[0;36m<module>\u001b[1;34m\u001b[0m\n\u001b[1;32m----> 1\u001b[1;33m \u001b[0mmerged_1\u001b[0m \u001b[1;33m=\u001b[0m \u001b[0mgolddf\u001b[0m\u001b[1;33m.\u001b[0m\u001b[0mmerge\u001b[0m\u001b[1;33m(\u001b[0m\u001b[0mmatch_details_df2\u001b[0m\u001b[1;33m,\u001b[0m\u001b[0mhow\u001b[0m\u001b[1;33m=\u001b[0m\u001b[1;34m'left'\u001b[0m\u001b[1;33m,\u001b[0m\u001b[0mon\u001b[0m\u001b[1;33m=\u001b[0m\u001b[1;34m'participantId'\u001b[0m\u001b[1;33m)\u001b[0m\u001b[1;33m\u001b[0m\u001b[1;33m\u001b[0m\u001b[0m\n\u001b[0m\u001b[0;32m      2\u001b[0m \u001b[0mmerged_2\u001b[0m \u001b[1;33m=\u001b[0m \u001b[0mmerged_1\u001b[0m\u001b[1;33m.\u001b[0m\u001b[0mmerge\u001b[0m\u001b[1;33m(\u001b[0m\u001b[0msummmonersNamesDF\u001b[0m\u001b[1;33m,\u001b[0m\u001b[0mhow\u001b[0m\u001b[1;33m=\u001b[0m\u001b[1;34m'left'\u001b[0m\u001b[1;33m,\u001b[0m\u001b[0mon\u001b[0m\u001b[1;33m=\u001b[0m\u001b[1;34m'participantId'\u001b[0m\u001b[1;33m)\u001b[0m\u001b[1;33m\u001b[0m\u001b[1;33m\u001b[0m\u001b[0m\n\u001b[0;32m      3\u001b[0m \u001b[1;33m\u001b[0m\u001b[0m\n\u001b[0;32m      4\u001b[0m \u001b[0mmerged_2\u001b[0m\u001b[1;33m[\u001b[0m\u001b[1;34m'champion_name'\u001b[0m\u001b[1;33m]\u001b[0m\u001b[1;33m=\u001b[0m\u001b[0mmerged_2\u001b[0m\u001b[1;33m[\u001b[0m\u001b[1;34m'champion'\u001b[0m\u001b[1;33m]\u001b[0m\u001b[1;33m.\u001b[0m\u001b[0mapply\u001b[0m\u001b[1;33m(\u001b[0m\u001b[0mstr\u001b[0m\u001b[1;33m)\u001b[0m\u001b[1;33m.\u001b[0m\u001b[0mmap\u001b[0m\u001b[1;33m(\u001b[0m\u001b[0mchamp_dict\u001b[0m\u001b[1;33m)\u001b[0m\u001b[1;33m\u001b[0m\u001b[1;33m\u001b[0m\u001b[0m\n\u001b[0;32m      5\u001b[0m \u001b[0mmerged_2\u001b[0m\u001b[1;33m.\u001b[0m\u001b[0mhead\u001b[0m\u001b[1;33m(\u001b[0m\u001b[1;36m5\u001b[0m\u001b[1;33m)\u001b[0m\u001b[1;33m\u001b[0m\u001b[1;33m\u001b[0m\u001b[0m\n",
      "\u001b[1;31mNameError\u001b[0m: name 'golddf' is not defined"
     ]
    }
   ],
   "source": [
    "merged_1 = golddf.merge(match_details_df2,how='left',on='participantId')\n",
    "merged_2 = merged_1.merge(summmonersNamesDF,how='left',on='participantId')\n",
    "\n",
    "merged_2['champion_name']=merged_2['champion'].apply(str).map(champ_dict)\n",
    "merged_2.head(5)\n"
   ]
  },
  {
   "cell_type": "code",
   "execution_count": 2,
   "metadata": {},
   "outputs": [
    {
     "output_type": "error",
     "ename": "NameError",
     "evalue": "name 'merged_2' is not defined",
     "traceback": [
      "\u001b[1;31m---------------------------------------------------------------------------\u001b[0m",
      "\u001b[1;31mNameError\u001b[0m                                 Traceback (most recent call last)",
      "\u001b[1;32m<ipython-input-2-c5a6288cafe3>\u001b[0m in \u001b[0;36m<module>\u001b[1;34m\u001b[0m\n\u001b[1;32m----> 1\u001b[1;33m \u001b[0mmerged_3\u001b[0m\u001b[1;33m=\u001b[0m\u001b[0mmerged_2\u001b[0m\u001b[1;33m.\u001b[0m\u001b[0msort_values\u001b[0m\u001b[1;33m(\u001b[0m\u001b[1;33m[\u001b[0m\u001b[1;34m\"champion_name\"\u001b[0m\u001b[1;33m,\u001b[0m\u001b[1;34m'minute'\u001b[0m\u001b[1;33m]\u001b[0m\u001b[1;33m,\u001b[0m\u001b[0mindex\u001b[0m\u001b[1;33m=\u001b[0m\u001b[1;32mFalse\u001b[0m\u001b[1;33m)\u001b[0m\u001b[1;33m\u001b[0m\u001b[1;33m\u001b[0m\u001b[0m\n\u001b[0m\u001b[0;32m      2\u001b[0m \u001b[0mmerged_3\u001b[0m\u001b[1;33m.\u001b[0m\u001b[0mto_csv\u001b[0m\u001b[1;33m(\u001b[0m\u001b[1;34m\"Match_CSV.csv\"\u001b[0m\u001b[1;33m)\u001b[0m\u001b[1;33m\u001b[0m\u001b[1;33m\u001b[0m\u001b[0m\n\u001b[0;32m      3\u001b[0m \u001b[0mmerged_3\u001b[0m\u001b[1;33m\u001b[0m\u001b[1;33m\u001b[0m\u001b[0m\n",
      "\u001b[1;31mNameError\u001b[0m: name 'merged_2' is not defined"
     ]
    }
   ],
   "source": [
    "\n",
    "merged_3=merged_2.sort_values([\"champion_name\",'minute'],index=False)\n",
    "merged_3.to_csv(\"Match_CSV.csv\")\n",
    "merged_3"
   ]
  },
  {
   "cell_type": "code",
   "execution_count": null,
   "metadata": {},
   "outputs": [],
   "source": []
  }
 ]
}