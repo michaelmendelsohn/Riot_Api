{
 "metadata": {
  "language_info": {
   "codemirror_mode": {
    "name": "ipython",
    "version": 3
   },
   "file_extension": ".py",
   "mimetype": "text/x-python",
   "name": "python",
   "nbconvert_exporter": "python",
   "pygments_lexer": "ipython3",
   "version": "3.9.2-final"
  },
  "orig_nbformat": 2,
  "kernelspec": {
   "name": "python3",
   "display_name": "Python 3.9.2 64-bit",
   "metadata": {
    "interpreter": {
     "hash": "3cb19a7de07f7df9a1ac65bede0c112e2ce18daa0dd50491eae5f12b20c54ea1"
    }
   }
  }
 },
 "nbformat": 4,
 "nbformat_minor": 2,
 "cells": [
  {
   "cell_type": "code",
   "execution_count": 31,
   "metadata": {},
   "outputs": [
    {
     "output_type": "stream",
     "name": "stdout",
     "text": [
      "(29980, 15)\n"
     ]
    },
    {
     "output_type": "execute_result",
     "data": {
      "text/plain": [
       "   minute  participantId  totalGold  level   xp  minionsKilled  \\\n",
       "0       0              3        500      1    0              0   \n",
       "1       1              3        500      1    0              0   \n",
       "2       2              3        522      1  113              0   \n",
       "3       3              3       1092      2  419              2   \n",
       "4       4              3       1308      3  707              4   \n",
       "\n",
       "   jungleMinionsKilled      gameId                  queue teamId   win  \\\n",
       "0                    0  3840383384  5v5 Ranked Flex games   Blue  True   \n",
       "1                    0  3840383384  5v5 Ranked Flex games   Blue  True   \n",
       "2                    0  3840383384  5v5 Ranked Flex games   Blue  True   \n",
       "3                    0  3840383384  5v5 Ranked Flex games   Blue  True   \n",
       "4                    0  3840383384  5v5 Ranked Flex games   Blue  True   \n",
       "\n",
       "  champion_name         role    lane  summonerName  \n",
       "0       Alistar  DUO_SUPPORT  BOTTOM  SouporSecret  \n",
       "1       Alistar  DUO_SUPPORT  BOTTOM  SouporSecret  \n",
       "2       Alistar  DUO_SUPPORT  BOTTOM  SouporSecret  \n",
       "3       Alistar  DUO_SUPPORT  BOTTOM  SouporSecret  \n",
       "4       Alistar  DUO_SUPPORT  BOTTOM  SouporSecret  "
      ],
      "text/html": "<div>\n<style scoped>\n    .dataframe tbody tr th:only-of-type {\n        vertical-align: middle;\n    }\n\n    .dataframe tbody tr th {\n        vertical-align: top;\n    }\n\n    .dataframe thead th {\n        text-align: right;\n    }\n</style>\n<table border=\"1\" class=\"dataframe\">\n  <thead>\n    <tr style=\"text-align: right;\">\n      <th></th>\n      <th>minute</th>\n      <th>participantId</th>\n      <th>totalGold</th>\n      <th>level</th>\n      <th>xp</th>\n      <th>minionsKilled</th>\n      <th>jungleMinionsKilled</th>\n      <th>gameId</th>\n      <th>queue</th>\n      <th>teamId</th>\n      <th>win</th>\n      <th>champion_name</th>\n      <th>role</th>\n      <th>lane</th>\n      <th>summonerName</th>\n    </tr>\n  </thead>\n  <tbody>\n    <tr>\n      <th>0</th>\n      <td>0</td>\n      <td>3</td>\n      <td>500</td>\n      <td>1</td>\n      <td>0</td>\n      <td>0</td>\n      <td>0</td>\n      <td>3840383384</td>\n      <td>5v5 Ranked Flex games</td>\n      <td>Blue</td>\n      <td>True</td>\n      <td>Alistar</td>\n      <td>DUO_SUPPORT</td>\n      <td>BOTTOM</td>\n      <td>SouporSecret</td>\n    </tr>\n    <tr>\n      <th>1</th>\n      <td>1</td>\n      <td>3</td>\n      <td>500</td>\n      <td>1</td>\n      <td>0</td>\n      <td>0</td>\n      <td>0</td>\n      <td>3840383384</td>\n      <td>5v5 Ranked Flex games</td>\n      <td>Blue</td>\n      <td>True</td>\n      <td>Alistar</td>\n      <td>DUO_SUPPORT</td>\n      <td>BOTTOM</td>\n      <td>SouporSecret</td>\n    </tr>\n    <tr>\n      <th>2</th>\n      <td>2</td>\n      <td>3</td>\n      <td>522</td>\n      <td>1</td>\n      <td>113</td>\n      <td>0</td>\n      <td>0</td>\n      <td>3840383384</td>\n      <td>5v5 Ranked Flex games</td>\n      <td>Blue</td>\n      <td>True</td>\n      <td>Alistar</td>\n      <td>DUO_SUPPORT</td>\n      <td>BOTTOM</td>\n      <td>SouporSecret</td>\n    </tr>\n    <tr>\n      <th>3</th>\n      <td>3</td>\n      <td>3</td>\n      <td>1092</td>\n      <td>2</td>\n      <td>419</td>\n      <td>2</td>\n      <td>0</td>\n      <td>3840383384</td>\n      <td>5v5 Ranked Flex games</td>\n      <td>Blue</td>\n      <td>True</td>\n      <td>Alistar</td>\n      <td>DUO_SUPPORT</td>\n      <td>BOTTOM</td>\n      <td>SouporSecret</td>\n    </tr>\n    <tr>\n      <th>4</th>\n      <td>4</td>\n      <td>3</td>\n      <td>1308</td>\n      <td>3</td>\n      <td>707</td>\n      <td>4</td>\n      <td>0</td>\n      <td>3840383384</td>\n      <td>5v5 Ranked Flex games</td>\n      <td>Blue</td>\n      <td>True</td>\n      <td>Alistar</td>\n      <td>DUO_SUPPORT</td>\n      <td>BOTTOM</td>\n      <td>SouporSecret</td>\n    </tr>\n  </tbody>\n</table>\n</div>"
     },
     "metadata": {},
     "execution_count": 31
    }
   ],
   "source": [
    "import pandas as pd\n",
    "import pandasql as psql\n",
    "df_soup=pd.read_csv(\"100_Match_Stats_Souporsecret.csv\")\n",
    "print(df_soup.shape)\n",
    "df_soup.head(5)"
   ]
  },
  {
   "cell_type": "code",
   "execution_count": 108,
   "metadata": {
    "tags": []
   },
   "outputs": [
    {
     "output_type": "stream",
     "name": "stdout",
     "text": [
      "SELECT distinct minute, gameId, summonerName, champion_name, totalgold, role, lane  FROM df where minute = 10 and teamId = \"Blue\" \n"
     ]
    },
    {
     "output_type": "execute_result",
     "data": {
      "text/plain": [
       "    minute      gameId summonerName_x champion_name_x  totalGold_x  \\\n",
       "0       10  3840383384   SouporSecret         Alistar         2915   \n",
       "1       10  3840383384   SouporSecret         Alistar         2915   \n",
       "2       10  3840383384   SouporSecret         Alistar         2915   \n",
       "3       10  3840383384   SouporSecret         Alistar         2915   \n",
       "4       10  3840383384   SouporSecret         Alistar         2915   \n",
       "5       10  3840383384    AerialBlast          Draven         3326   \n",
       "6       10  3840383384    AerialBlast          Draven         3326   \n",
       "7       10  3840383384    AerialBlast          Draven         3326   \n",
       "8       10  3840383384    AerialBlast          Draven         3326   \n",
       "9       10  3840383384    AerialBlast          Draven         3326   \n",
       "10      10  3840383384       Teroboal            Gnar         4019   \n",
       "11      10  3840383384       Teroboal            Gnar         4019   \n",
       "12      10  3840383384       Teroboal            Gnar         4019   \n",
       "13      10  3840383384       Teroboal            Gnar         4019   \n",
       "14      10  3840383384       Teroboal            Gnar         4019   \n",
       "\n",
       "         role_x  lane_x summonerName_y champion_name_y  totalGold_y  \\\n",
       "0   DUO_SUPPORT  BOTTOM   ILikeBoyHole           Brand         2264   \n",
       "1   DUO_SUPPORT  BOTTOM   Motivational            Jinx         3128   \n",
       "2   DUO_SUPPORT  BOTTOM   Alphabetacal       TahmKench         3164   \n",
       "3   DUO_SUPPORT  BOTTOM  Optimus Tumes           Vayne         3883   \n",
       "4   DUO_SUPPORT  BOTTOM   Alphabetical          Viktor         3737   \n",
       "5     DUO_CARRY  BOTTOM   ILikeBoyHole           Brand         2264   \n",
       "6     DUO_CARRY  BOTTOM   Motivational            Jinx         3128   \n",
       "7     DUO_CARRY  BOTTOM   Alphabetacal       TahmKench         3164   \n",
       "8     DUO_CARRY  BOTTOM  Optimus Tumes           Vayne         3883   \n",
       "9     DUO_CARRY  BOTTOM   Alphabetical          Viktor         3737   \n",
       "10         SOLO     TOP   ILikeBoyHole           Brand         2264   \n",
       "11         SOLO     TOP   Motivational            Jinx         3128   \n",
       "12         SOLO     TOP   Alphabetacal       TahmKench         3164   \n",
       "13         SOLO     TOP  Optimus Tumes           Vayne         3883   \n",
       "14         SOLO     TOP   Alphabetical          Viktor         3737   \n",
       "\n",
       "         role_y  lane_y  \n",
       "0   DUO_SUPPORT  BOTTOM  \n",
       "1     DUO_CARRY  BOTTOM  \n",
       "2          NONE  JUNGLE  \n",
       "3          SOLO     TOP  \n",
       "4          SOLO  MIDDLE  \n",
       "5   DUO_SUPPORT  BOTTOM  \n",
       "6     DUO_CARRY  BOTTOM  \n",
       "7          NONE  JUNGLE  \n",
       "8          SOLO     TOP  \n",
       "9          SOLO  MIDDLE  \n",
       "10  DUO_SUPPORT  BOTTOM  \n",
       "11    DUO_CARRY  BOTTOM  \n",
       "12         NONE  JUNGLE  \n",
       "13         SOLO     TOP  \n",
       "14         SOLO  MIDDLE  "
      ],
      "text/html": "<div>\n<style scoped>\n    .dataframe tbody tr th:only-of-type {\n        vertical-align: middle;\n    }\n\n    .dataframe tbody tr th {\n        vertical-align: top;\n    }\n\n    .dataframe thead th {\n        text-align: right;\n    }\n</style>\n<table border=\"1\" class=\"dataframe\">\n  <thead>\n    <tr style=\"text-align: right;\">\n      <th></th>\n      <th>minute</th>\n      <th>gameId</th>\n      <th>summonerName_x</th>\n      <th>champion_name_x</th>\n      <th>totalGold_x</th>\n      <th>role_x</th>\n      <th>lane_x</th>\n      <th>summonerName_y</th>\n      <th>champion_name_y</th>\n      <th>totalGold_y</th>\n      <th>role_y</th>\n      <th>lane_y</th>\n    </tr>\n  </thead>\n  <tbody>\n    <tr>\n      <th>0</th>\n      <td>10</td>\n      <td>3840383384</td>\n      <td>SouporSecret</td>\n      <td>Alistar</td>\n      <td>2915</td>\n      <td>DUO_SUPPORT</td>\n      <td>BOTTOM</td>\n      <td>ILikeBoyHole</td>\n      <td>Brand</td>\n      <td>2264</td>\n      <td>DUO_SUPPORT</td>\n      <td>BOTTOM</td>\n    </tr>\n    <tr>\n      <th>1</th>\n      <td>10</td>\n      <td>3840383384</td>\n      <td>SouporSecret</td>\n      <td>Alistar</td>\n      <td>2915</td>\n      <td>DUO_SUPPORT</td>\n      <td>BOTTOM</td>\n      <td>Motivational</td>\n      <td>Jinx</td>\n      <td>3128</td>\n      <td>DUO_CARRY</td>\n      <td>BOTTOM</td>\n    </tr>\n    <tr>\n      <th>2</th>\n      <td>10</td>\n      <td>3840383384</td>\n      <td>SouporSecret</td>\n      <td>Alistar</td>\n      <td>2915</td>\n      <td>DUO_SUPPORT</td>\n      <td>BOTTOM</td>\n      <td>Alphabetacal</td>\n      <td>TahmKench</td>\n      <td>3164</td>\n      <td>NONE</td>\n      <td>JUNGLE</td>\n    </tr>\n    <tr>\n      <th>3</th>\n      <td>10</td>\n      <td>3840383384</td>\n      <td>SouporSecret</td>\n      <td>Alistar</td>\n      <td>2915</td>\n      <td>DUO_SUPPORT</td>\n      <td>BOTTOM</td>\n      <td>Optimus Tumes</td>\n      <td>Vayne</td>\n      <td>3883</td>\n      <td>SOLO</td>\n      <td>TOP</td>\n    </tr>\n    <tr>\n      <th>4</th>\n      <td>10</td>\n      <td>3840383384</td>\n      <td>SouporSecret</td>\n      <td>Alistar</td>\n      <td>2915</td>\n      <td>DUO_SUPPORT</td>\n      <td>BOTTOM</td>\n      <td>Alphabetical</td>\n      <td>Viktor</td>\n      <td>3737</td>\n      <td>SOLO</td>\n      <td>MIDDLE</td>\n    </tr>\n    <tr>\n      <th>5</th>\n      <td>10</td>\n      <td>3840383384</td>\n      <td>AerialBlast</td>\n      <td>Draven</td>\n      <td>3326</td>\n      <td>DUO_CARRY</td>\n      <td>BOTTOM</td>\n      <td>ILikeBoyHole</td>\n      <td>Brand</td>\n      <td>2264</td>\n      <td>DUO_SUPPORT</td>\n      <td>BOTTOM</td>\n    </tr>\n    <tr>\n      <th>6</th>\n      <td>10</td>\n      <td>3840383384</td>\n      <td>AerialBlast</td>\n      <td>Draven</td>\n      <td>3326</td>\n      <td>DUO_CARRY</td>\n      <td>BOTTOM</td>\n      <td>Motivational</td>\n      <td>Jinx</td>\n      <td>3128</td>\n      <td>DUO_CARRY</td>\n      <td>BOTTOM</td>\n    </tr>\n    <tr>\n      <th>7</th>\n      <td>10</td>\n      <td>3840383384</td>\n      <td>AerialBlast</td>\n      <td>Draven</td>\n      <td>3326</td>\n      <td>DUO_CARRY</td>\n      <td>BOTTOM</td>\n      <td>Alphabetacal</td>\n      <td>TahmKench</td>\n      <td>3164</td>\n      <td>NONE</td>\n      <td>JUNGLE</td>\n    </tr>\n    <tr>\n      <th>8</th>\n      <td>10</td>\n      <td>3840383384</td>\n      <td>AerialBlast</td>\n      <td>Draven</td>\n      <td>3326</td>\n      <td>DUO_CARRY</td>\n      <td>BOTTOM</td>\n      <td>Optimus Tumes</td>\n      <td>Vayne</td>\n      <td>3883</td>\n      <td>SOLO</td>\n      <td>TOP</td>\n    </tr>\n    <tr>\n      <th>9</th>\n      <td>10</td>\n      <td>3840383384</td>\n      <td>AerialBlast</td>\n      <td>Draven</td>\n      <td>3326</td>\n      <td>DUO_CARRY</td>\n      <td>BOTTOM</td>\n      <td>Alphabetical</td>\n      <td>Viktor</td>\n      <td>3737</td>\n      <td>SOLO</td>\n      <td>MIDDLE</td>\n    </tr>\n    <tr>\n      <th>10</th>\n      <td>10</td>\n      <td>3840383384</td>\n      <td>Teroboal</td>\n      <td>Gnar</td>\n      <td>4019</td>\n      <td>SOLO</td>\n      <td>TOP</td>\n      <td>ILikeBoyHole</td>\n      <td>Brand</td>\n      <td>2264</td>\n      <td>DUO_SUPPORT</td>\n      <td>BOTTOM</td>\n    </tr>\n    <tr>\n      <th>11</th>\n      <td>10</td>\n      <td>3840383384</td>\n      <td>Teroboal</td>\n      <td>Gnar</td>\n      <td>4019</td>\n      <td>SOLO</td>\n      <td>TOP</td>\n      <td>Motivational</td>\n      <td>Jinx</td>\n      <td>3128</td>\n      <td>DUO_CARRY</td>\n      <td>BOTTOM</td>\n    </tr>\n    <tr>\n      <th>12</th>\n      <td>10</td>\n      <td>3840383384</td>\n      <td>Teroboal</td>\n      <td>Gnar</td>\n      <td>4019</td>\n      <td>SOLO</td>\n      <td>TOP</td>\n      <td>Alphabetacal</td>\n      <td>TahmKench</td>\n      <td>3164</td>\n      <td>NONE</td>\n      <td>JUNGLE</td>\n    </tr>\n    <tr>\n      <th>13</th>\n      <td>10</td>\n      <td>3840383384</td>\n      <td>Teroboal</td>\n      <td>Gnar</td>\n      <td>4019</td>\n      <td>SOLO</td>\n      <td>TOP</td>\n      <td>Optimus Tumes</td>\n      <td>Vayne</td>\n      <td>3883</td>\n      <td>SOLO</td>\n      <td>TOP</td>\n    </tr>\n    <tr>\n      <th>14</th>\n      <td>10</td>\n      <td>3840383384</td>\n      <td>Teroboal</td>\n      <td>Gnar</td>\n      <td>4019</td>\n      <td>SOLO</td>\n      <td>TOP</td>\n      <td>Alphabetical</td>\n      <td>Viktor</td>\n      <td>3737</td>\n      <td>SOLO</td>\n      <td>MIDDLE</td>\n    </tr>\n  </tbody>\n</table>\n</div>"
     },
     "metadata": {},
     "execution_count": 108
    }
   ],
   "source": [
    "''' @Params\n",
    "    df = name of dataframe\n",
    "    name = summoner name **NOT USED YET\n",
    "    time = time  to see gold diff\n",
    "    lane = lane : BOTTOM, TOP, MIDDLE, JUNGLE, NONE\n",
    "    ROLE = position: DUO_SUPPORT, DUO_CARRY, SOLO, NONE, DUO\n",
    "'''\n",
    "def gold_diff_x(df, name, time, lane=\"\", role=\"\"):\n",
    "    minute=str(time)\n",
    " \n",
    "    b1 = \"SELECT distinct minute, gameId, summonerName, champion_name, totalgold, role, lane  FROM df where minute = \"+minute + \" and teamId = \\\"Blue\\\" \"\n",
    "    if lane != \"\":\n",
    "        b1+= \" and  lane = \\\"\" + lane + \"\\\"\"\n",
    "    if role != \"\":\n",
    "        b1+= \" and  role = \\\"\" + role + \"\\\"\"\n",
    "    \n",
    "    r1 = \"SELECT distinct minute, gameId, summonerName, champion_name, totalgold, role, lane  FROM df where minute = \"+minute + \" and teamId = \\\"Red\\\" \"\n",
    "    if lane != \"\":\n",
    "        r1+= \" and  lane = \\\"\" + lane + \"\\\"\"\n",
    "    if role != \"\":\n",
    "        r1+= \" and  role = \\\"\" + role + \"\\\"\"\n",
    "    print(b1)                                                                                               \n",
    "    #q1 = \"select distinct queue from df\"\n",
    "    df_blue= psql.sqldf(b1, locals())\n",
    "    df_red = psql.sqldf(r1, locals())\n",
    "    df_versus=df_blue.merge(df_red, on = [\"gameId\",\"minute\"])\n",
    "\n",
    "    return [df_versus,df_blue]\n",
    "df2=gold_diff_x(df_soup,\"Souporsecret\",10)\n",
    "df2[0].head(15)"
   ]
  },
  {
   "cell_type": "code",
   "execution_count": 94,
   "metadata": {},
   "outputs": [
    {
     "output_type": "execute_result",
     "data": {
      "text/plain": [
       "        gameId\n",
       "0   3840383384\n",
       "1   3836522152\n",
       "2   3836474151\n",
       "3   3835675132\n",
       "4   3835063919\n",
       "..         ...\n",
       "95  3749986859\n",
       "96  3748804887\n",
       "97  3748709114\n",
       "98  3747711115\n",
       "99  3747670484\n",
       "\n",
       "[100 rows x 1 columns]"
      ],
      "text/html": "<div>\n<style scoped>\n    .dataframe tbody tr th:only-of-type {\n        vertical-align: middle;\n    }\n\n    .dataframe tbody tr th {\n        vertical-align: top;\n    }\n\n    .dataframe thead th {\n        text-align: right;\n    }\n</style>\n<table border=\"1\" class=\"dataframe\">\n  <thead>\n    <tr style=\"text-align: right;\">\n      <th></th>\n      <th>gameId</th>\n    </tr>\n  </thead>\n  <tbody>\n    <tr>\n      <th>0</th>\n      <td>3840383384</td>\n    </tr>\n    <tr>\n      <th>1</th>\n      <td>3836522152</td>\n    </tr>\n    <tr>\n      <th>2</th>\n      <td>3836474151</td>\n    </tr>\n    <tr>\n      <th>3</th>\n      <td>3835675132</td>\n    </tr>\n    <tr>\n      <th>4</th>\n      <td>3835063919</td>\n    </tr>\n    <tr>\n      <th>...</th>\n      <td>...</td>\n    </tr>\n    <tr>\n      <th>95</th>\n      <td>3749986859</td>\n    </tr>\n    <tr>\n      <th>96</th>\n      <td>3748804887</td>\n    </tr>\n    <tr>\n      <th>97</th>\n      <td>3748709114</td>\n    </tr>\n    <tr>\n      <th>98</th>\n      <td>3747711115</td>\n    </tr>\n    <tr>\n      <th>99</th>\n      <td>3747670484</td>\n    </tr>\n  </tbody>\n</table>\n<p>100 rows × 1 columns</p>\n</div>"
     },
     "metadata": {},
     "execution_count": 94
    }
   ],
   "source": [
    "    b1 = \"SELECT distinct gameId from df_soup\"\n",
    "    df_blue= psql.sqldf(b1, locals())\n",
    "    df_blue"
   ]
  },
  {
   "cell_type": "code",
   "execution_count": null,
   "metadata": {},
   "outputs": [],
   "source": []
  }
 ]
}